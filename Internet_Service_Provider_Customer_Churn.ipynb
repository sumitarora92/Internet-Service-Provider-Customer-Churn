{
  "nbformat": 4,
  "nbformat_minor": 0,
  "metadata": {
    "colab": {
      "name": "Internet Service Provider Customer Churn.ipynb",
      "provenance": [],
      "collapsed_sections": [],
      "mount_file_id": "1Q5otXYUlZmI8hjWNSt7nIbUdzy1FWws4",
      "authorship_tag": "ABX9TyO+FX+mUztmo0Nsc8vTbaJS",
      "include_colab_link": true
    },
    "kernelspec": {
      "name": "python3",
      "display_name": "Python 3"
    },
    "language_info": {
      "name": "python"
    }
  },
  "cells": [
    {
      "cell_type": "markdown",
      "metadata": {
        "id": "view-in-github",
        "colab_type": "text"
      },
      "source": [
        "<a href=\"https://colab.research.google.com/github/sumitarora92/Internet-Service-Provider-Customer-Churn/blob/Internet-Service-Provider-CustoInternet-Service-Provider-Customer-Churnmer-Churn/Internet_Service_Provider_Customer_Churn.ipynb\" target=\"_parent\"><img src=\"https://colab.research.google.com/assets/colab-badge.svg\" alt=\"Open In Colab\"/></a>"
      ]
    },
    {
      "cell_type": "code",
      "execution_count": 1,
      "metadata": {
        "id": "pbi2MGCbmKRj"
      },
      "outputs": [],
      "source": [
        "import numpy as np\n",
        "import pandas as pd\n",
        "import matplotlib.pyplot as plt\n",
        "import seaborn as sns"
      ]
    },
    {
      "cell_type": "code",
      "source": [
        "df = pd.read_csv('internet_churn.csv.csv')"
      ],
      "metadata": {
        "id": "oC-n-cf9vUzD"
      },
      "execution_count": 4,
      "outputs": []
    },
    {
      "cell_type": "code",
      "source": [
        "df"
      ],
      "metadata": {
        "id": "eb_h-9fkvYGL",
        "outputId": "e322998e-69d1-4055-e776-aee01b0d1307",
        "colab": {
          "base_uri": "https://localhost:8080/",
          "height": 488
        }
      },
      "execution_count": 5,
      "outputs": [
        {
          "output_type": "execute_result",
          "data": {
            "text/plain": [
              "            id  tv_subscriber  movie_subscriber  subscription_age  bill_avg  \\\n",
              "0           15              1                 0             11.95        25   \n",
              "1           18              0                 0              8.22         0   \n",
              "2           23              1                 0              8.91        16   \n",
              "3           27              0                 0              6.87        21   \n",
              "4           34              0                 0              6.39         0   \n",
              "...        ...            ...               ...               ...       ...   \n",
              "57597  1348998              1                 0              1.22        14   \n",
              "57598  1349014              1                 0              1.22        14   \n",
              "57599  1349028              1                 0              1.22        14   \n",
              "57600  1349055              1                 0              1.22        12   \n",
              "57601  1349061              1                 1              1.22        20   \n",
              "\n",
              "       remaining_contract  service_failure_count  download_avg  upload_avg  \\\n",
              "0                    0.14                    0.0           8.4         2.3   \n",
              "1                     NaN                    0.0           0.0         0.0   \n",
              "2                    0.00                    0.0          13.7         0.9   \n",
              "3                     NaN                    1.0           0.0         0.0   \n",
              "4                     NaN                    0.0           0.0         0.0   \n",
              "...                   ...                    ...           ...         ...   \n",
              "57597                0.75                    0.0          36.6         2.4   \n",
              "57598                0.75                    0.0         114.2         7.4   \n",
              "57599                0.75                    0.0         113.4        16.2   \n",
              "57600                0.99                    0.0         105.1         8.9   \n",
              "57601                 NaN                    NaN           NaN         NaN   \n",
              "\n",
              "       download_over_limit  churn  \n",
              "0                      0.0    0.0  \n",
              "1                      0.0    1.0  \n",
              "2                      0.0    1.0  \n",
              "3                      0.0    1.0  \n",
              "4                      0.0    1.0  \n",
              "...                    ...    ...  \n",
              "57597                  0.0    0.0  \n",
              "57598                  0.0    0.0  \n",
              "57599                  0.0    0.0  \n",
              "57600                  0.0    0.0  \n",
              "57601                  NaN    NaN  \n",
              "\n",
              "[57602 rows x 11 columns]"
            ],
            "text/html": [
              "\n",
              "  <div id=\"df-cd61b7e2-aaad-4aa8-9e1e-7a379a667afd\">\n",
              "    <div class=\"colab-df-container\">\n",
              "      <div>\n",
              "<style scoped>\n",
              "    .dataframe tbody tr th:only-of-type {\n",
              "        vertical-align: middle;\n",
              "    }\n",
              "\n",
              "    .dataframe tbody tr th {\n",
              "        vertical-align: top;\n",
              "    }\n",
              "\n",
              "    .dataframe thead th {\n",
              "        text-align: right;\n",
              "    }\n",
              "</style>\n",
              "<table border=\"1\" class=\"dataframe\">\n",
              "  <thead>\n",
              "    <tr style=\"text-align: right;\">\n",
              "      <th></th>\n",
              "      <th>id</th>\n",
              "      <th>tv_subscriber</th>\n",
              "      <th>movie_subscriber</th>\n",
              "      <th>subscription_age</th>\n",
              "      <th>bill_avg</th>\n",
              "      <th>remaining_contract</th>\n",
              "      <th>service_failure_count</th>\n",
              "      <th>download_avg</th>\n",
              "      <th>upload_avg</th>\n",
              "      <th>download_over_limit</th>\n",
              "      <th>churn</th>\n",
              "    </tr>\n",
              "  </thead>\n",
              "  <tbody>\n",
              "    <tr>\n",
              "      <th>0</th>\n",
              "      <td>15</td>\n",
              "      <td>1</td>\n",
              "      <td>0</td>\n",
              "      <td>11.95</td>\n",
              "      <td>25</td>\n",
              "      <td>0.14</td>\n",
              "      <td>0.0</td>\n",
              "      <td>8.4</td>\n",
              "      <td>2.3</td>\n",
              "      <td>0.0</td>\n",
              "      <td>0.0</td>\n",
              "    </tr>\n",
              "    <tr>\n",
              "      <th>1</th>\n",
              "      <td>18</td>\n",
              "      <td>0</td>\n",
              "      <td>0</td>\n",
              "      <td>8.22</td>\n",
              "      <td>0</td>\n",
              "      <td>NaN</td>\n",
              "      <td>0.0</td>\n",
              "      <td>0.0</td>\n",
              "      <td>0.0</td>\n",
              "      <td>0.0</td>\n",
              "      <td>1.0</td>\n",
              "    </tr>\n",
              "    <tr>\n",
              "      <th>2</th>\n",
              "      <td>23</td>\n",
              "      <td>1</td>\n",
              "      <td>0</td>\n",
              "      <td>8.91</td>\n",
              "      <td>16</td>\n",
              "      <td>0.00</td>\n",
              "      <td>0.0</td>\n",
              "      <td>13.7</td>\n",
              "      <td>0.9</td>\n",
              "      <td>0.0</td>\n",
              "      <td>1.0</td>\n",
              "    </tr>\n",
              "    <tr>\n",
              "      <th>3</th>\n",
              "      <td>27</td>\n",
              "      <td>0</td>\n",
              "      <td>0</td>\n",
              "      <td>6.87</td>\n",
              "      <td>21</td>\n",
              "      <td>NaN</td>\n",
              "      <td>1.0</td>\n",
              "      <td>0.0</td>\n",
              "      <td>0.0</td>\n",
              "      <td>0.0</td>\n",
              "      <td>1.0</td>\n",
              "    </tr>\n",
              "    <tr>\n",
              "      <th>4</th>\n",
              "      <td>34</td>\n",
              "      <td>0</td>\n",
              "      <td>0</td>\n",
              "      <td>6.39</td>\n",
              "      <td>0</td>\n",
              "      <td>NaN</td>\n",
              "      <td>0.0</td>\n",
              "      <td>0.0</td>\n",
              "      <td>0.0</td>\n",
              "      <td>0.0</td>\n",
              "      <td>1.0</td>\n",
              "    </tr>\n",
              "    <tr>\n",
              "      <th>...</th>\n",
              "      <td>...</td>\n",
              "      <td>...</td>\n",
              "      <td>...</td>\n",
              "      <td>...</td>\n",
              "      <td>...</td>\n",
              "      <td>...</td>\n",
              "      <td>...</td>\n",
              "      <td>...</td>\n",
              "      <td>...</td>\n",
              "      <td>...</td>\n",
              "      <td>...</td>\n",
              "    </tr>\n",
              "    <tr>\n",
              "      <th>57597</th>\n",
              "      <td>1348998</td>\n",
              "      <td>1</td>\n",
              "      <td>0</td>\n",
              "      <td>1.22</td>\n",
              "      <td>14</td>\n",
              "      <td>0.75</td>\n",
              "      <td>0.0</td>\n",
              "      <td>36.6</td>\n",
              "      <td>2.4</td>\n",
              "      <td>0.0</td>\n",
              "      <td>0.0</td>\n",
              "    </tr>\n",
              "    <tr>\n",
              "      <th>57598</th>\n",
              "      <td>1349014</td>\n",
              "      <td>1</td>\n",
              "      <td>0</td>\n",
              "      <td>1.22</td>\n",
              "      <td>14</td>\n",
              "      <td>0.75</td>\n",
              "      <td>0.0</td>\n",
              "      <td>114.2</td>\n",
              "      <td>7.4</td>\n",
              "      <td>0.0</td>\n",
              "      <td>0.0</td>\n",
              "    </tr>\n",
              "    <tr>\n",
              "      <th>57599</th>\n",
              "      <td>1349028</td>\n",
              "      <td>1</td>\n",
              "      <td>0</td>\n",
              "      <td>1.22</td>\n",
              "      <td>14</td>\n",
              "      <td>0.75</td>\n",
              "      <td>0.0</td>\n",
              "      <td>113.4</td>\n",
              "      <td>16.2</td>\n",
              "      <td>0.0</td>\n",
              "      <td>0.0</td>\n",
              "    </tr>\n",
              "    <tr>\n",
              "      <th>57600</th>\n",
              "      <td>1349055</td>\n",
              "      <td>1</td>\n",
              "      <td>0</td>\n",
              "      <td>1.22</td>\n",
              "      <td>12</td>\n",
              "      <td>0.99</td>\n",
              "      <td>0.0</td>\n",
              "      <td>105.1</td>\n",
              "      <td>8.9</td>\n",
              "      <td>0.0</td>\n",
              "      <td>0.0</td>\n",
              "    </tr>\n",
              "    <tr>\n",
              "      <th>57601</th>\n",
              "      <td>1349061</td>\n",
              "      <td>1</td>\n",
              "      <td>1</td>\n",
              "      <td>1.22</td>\n",
              "      <td>20</td>\n",
              "      <td>NaN</td>\n",
              "      <td>NaN</td>\n",
              "      <td>NaN</td>\n",
              "      <td>NaN</td>\n",
              "      <td>NaN</td>\n",
              "      <td>NaN</td>\n",
              "    </tr>\n",
              "  </tbody>\n",
              "</table>\n",
              "<p>57602 rows × 11 columns</p>\n",
              "</div>\n",
              "      <button class=\"colab-df-convert\" onclick=\"convertToInteractive('df-cd61b7e2-aaad-4aa8-9e1e-7a379a667afd')\"\n",
              "              title=\"Convert this dataframe to an interactive table.\"\n",
              "              style=\"display:none;\">\n",
              "        \n",
              "  <svg xmlns=\"http://www.w3.org/2000/svg\" height=\"24px\"viewBox=\"0 0 24 24\"\n",
              "       width=\"24px\">\n",
              "    <path d=\"M0 0h24v24H0V0z\" fill=\"none\"/>\n",
              "    <path d=\"M18.56 5.44l.94 2.06.94-2.06 2.06-.94-2.06-.94-.94-2.06-.94 2.06-2.06.94zm-11 1L8.5 8.5l.94-2.06 2.06-.94-2.06-.94L8.5 2.5l-.94 2.06-2.06.94zm10 10l.94 2.06.94-2.06 2.06-.94-2.06-.94-.94-2.06-.94 2.06-2.06.94z\"/><path d=\"M17.41 7.96l-1.37-1.37c-.4-.4-.92-.59-1.43-.59-.52 0-1.04.2-1.43.59L10.3 9.45l-7.72 7.72c-.78.78-.78 2.05 0 2.83L4 21.41c.39.39.9.59 1.41.59.51 0 1.02-.2 1.41-.59l7.78-7.78 2.81-2.81c.8-.78.8-2.07 0-2.86zM5.41 20L4 18.59l7.72-7.72 1.47 1.35L5.41 20z\"/>\n",
              "  </svg>\n",
              "      </button>\n",
              "      \n",
              "  <style>\n",
              "    .colab-df-container {\n",
              "      display:flex;\n",
              "      flex-wrap:wrap;\n",
              "      gap: 12px;\n",
              "    }\n",
              "\n",
              "    .colab-df-convert {\n",
              "      background-color: #E8F0FE;\n",
              "      border: none;\n",
              "      border-radius: 50%;\n",
              "      cursor: pointer;\n",
              "      display: none;\n",
              "      fill: #1967D2;\n",
              "      height: 32px;\n",
              "      padding: 0 0 0 0;\n",
              "      width: 32px;\n",
              "    }\n",
              "\n",
              "    .colab-df-convert:hover {\n",
              "      background-color: #E2EBFA;\n",
              "      box-shadow: 0px 1px 2px rgba(60, 64, 67, 0.3), 0px 1px 3px 1px rgba(60, 64, 67, 0.15);\n",
              "      fill: #174EA6;\n",
              "    }\n",
              "\n",
              "    [theme=dark] .colab-df-convert {\n",
              "      background-color: #3B4455;\n",
              "      fill: #D2E3FC;\n",
              "    }\n",
              "\n",
              "    [theme=dark] .colab-df-convert:hover {\n",
              "      background-color: #434B5C;\n",
              "      box-shadow: 0px 1px 3px 1px rgba(0, 0, 0, 0.15);\n",
              "      filter: drop-shadow(0px 1px 2px rgba(0, 0, 0, 0.3));\n",
              "      fill: #FFFFFF;\n",
              "    }\n",
              "  </style>\n",
              "\n",
              "      <script>\n",
              "        const buttonEl =\n",
              "          document.querySelector('#df-cd61b7e2-aaad-4aa8-9e1e-7a379a667afd button.colab-df-convert');\n",
              "        buttonEl.style.display =\n",
              "          google.colab.kernel.accessAllowed ? 'block' : 'none';\n",
              "\n",
              "        async function convertToInteractive(key) {\n",
              "          const element = document.querySelector('#df-cd61b7e2-aaad-4aa8-9e1e-7a379a667afd');\n",
              "          const dataTable =\n",
              "            await google.colab.kernel.invokeFunction('convertToInteractive',\n",
              "                                                     [key], {});\n",
              "          if (!dataTable) return;\n",
              "\n",
              "          const docLinkHtml = 'Like what you see? Visit the ' +\n",
              "            '<a target=\"_blank\" href=https://colab.research.google.com/notebooks/data_table.ipynb>data table notebook</a>'\n",
              "            + ' to learn more about interactive tables.';\n",
              "          element.innerHTML = '';\n",
              "          dataTable['output_type'] = 'display_data';\n",
              "          await google.colab.output.renderOutput(dataTable, element);\n",
              "          const docLink = document.createElement('div');\n",
              "          docLink.innerHTML = docLinkHtml;\n",
              "          element.appendChild(docLink);\n",
              "        }\n",
              "      </script>\n",
              "    </div>\n",
              "  </div>\n",
              "  "
            ]
          },
          "metadata": {},
          "execution_count": 5
        }
      ]
    },
    {
      "cell_type": "code",
      "source": [
        "df.info()"
      ],
      "metadata": {
        "id": "psBe98Pa87R2",
        "colab": {
          "base_uri": "https://localhost:8080/"
        },
        "outputId": "987284d4-fb4c-4ad2-bada-c65215c4ec06"
      },
      "execution_count": 6,
      "outputs": [
        {
          "output_type": "stream",
          "name": "stdout",
          "text": [
            "<class 'pandas.core.frame.DataFrame'>\n",
            "RangeIndex: 57602 entries, 0 to 57601\n",
            "Data columns (total 11 columns):\n",
            " #   Column                 Non-Null Count  Dtype  \n",
            "---  ------                 --------------  -----  \n",
            " 0   id                     57602 non-null  int64  \n",
            " 1   tv_subscriber          57602 non-null  int64  \n",
            " 2   movie_subscriber       57602 non-null  int64  \n",
            " 3   subscription_age       57602 non-null  float64\n",
            " 4   bill_avg               57602 non-null  int64  \n",
            " 5   remaining_contract     36670 non-null  float64\n",
            " 6   service_failure_count  57601 non-null  float64\n",
            " 7   download_avg           57516 non-null  float64\n",
            " 8   upload_avg             57516 non-null  float64\n",
            " 9   download_over_limit    57601 non-null  float64\n",
            " 10  churn                  57601 non-null  float64\n",
            "dtypes: float64(7), int64(4)\n",
            "memory usage: 4.8 MB\n"
          ]
        }
      ]
    },
    {
      "cell_type": "code",
      "source": [
        "df.dropna(subset=['download_avg'], how='any', inplace=True)\n",
        "df.dropna(subset=['upload_avg'], how='any', inplace=True)"
      ],
      "metadata": {
        "id": "gGIj6dvqNu-B"
      },
      "execution_count": 7,
      "outputs": []
    },
    {
      "cell_type": "code",
      "source": [
        "df.info()"
      ],
      "metadata": {
        "colab": {
          "base_uri": "https://localhost:8080/"
        },
        "id": "n_91YsIxN2HS",
        "outputId": "1b645591-2b02-4468-bdc2-6c13d983d1c0"
      },
      "execution_count": 8,
      "outputs": [
        {
          "output_type": "stream",
          "name": "stdout",
          "text": [
            "<class 'pandas.core.frame.DataFrame'>\n",
            "Int64Index: 57516 entries, 0 to 57600\n",
            "Data columns (total 11 columns):\n",
            " #   Column                 Non-Null Count  Dtype  \n",
            "---  ------                 --------------  -----  \n",
            " 0   id                     57516 non-null  int64  \n",
            " 1   tv_subscriber          57516 non-null  int64  \n",
            " 2   movie_subscriber       57516 non-null  int64  \n",
            " 3   subscription_age       57516 non-null  float64\n",
            " 4   bill_avg               57516 non-null  int64  \n",
            " 5   remaining_contract     36632 non-null  float64\n",
            " 6   service_failure_count  57516 non-null  float64\n",
            " 7   download_avg           57516 non-null  float64\n",
            " 8   upload_avg             57516 non-null  float64\n",
            " 9   download_over_limit    57516 non-null  float64\n",
            " 10  churn                  57516 non-null  float64\n",
            "dtypes: float64(7), int64(4)\n",
            "memory usage: 5.3 MB\n"
          ]
        }
      ]
    },
    {
      "cell_type": "code",
      "source": [
        "def outlier(data, col):\n",
        "   Q1 = data[col].quantile(0.25)\n",
        "   Q3 = data[col].quantile(0.75)\n",
        "   IQR = Q3 - Q1\n",
        "   data = data.loc[~((data[col] < (Q1 - 1.5 * IQR)) | (data[col] > (Q3 + 1.5 * IQR))),]\n",
        "   return data"
      ],
      "metadata": {
        "id": "zRakl9urN5o_"
      },
      "execution_count": 9,
      "outputs": []
    },
    {
      "cell_type": "code",
      "source": [
        "df = outlier(df,'subscription_age')\n",
        "df"
      ],
      "metadata": {
        "id": "toDOxqosN9_R",
        "colab": {
          "base_uri": "https://localhost:8080/",
          "height": 488
        },
        "outputId": "f4e35bcd-10c5-4d07-9c86-2304e6b404d7"
      },
      "execution_count": 10,
      "outputs": [
        {
          "output_type": "execute_result",
          "data": {
            "text/plain": [
              "            id  tv_subscriber  movie_subscriber  subscription_age  bill_avg  \\\n",
              "3           27              0                 0              6.87        21   \n",
              "4           34              0                 0              6.39         0   \n",
              "7           84              0                 0              5.48        14   \n",
              "12         213              0                 0              6.64        10   \n",
              "13         222              0                 0              5.53        14   \n",
              "...        ...            ...               ...               ...       ...   \n",
              "57596  1348955              1                 0              1.22        13   \n",
              "57597  1348998              1                 0              1.22        14   \n",
              "57598  1349014              1                 0              1.22        14   \n",
              "57599  1349028              1                 0              1.22        14   \n",
              "57600  1349055              1                 0              1.22        12   \n",
              "\n",
              "       remaining_contract  service_failure_count  download_avg  upload_avg  \\\n",
              "3                     NaN                    1.0           0.0         0.0   \n",
              "4                     NaN                    0.0           0.0         0.0   \n",
              "7                     NaN                    1.0           0.0         0.0   \n",
              "12                    NaN                    0.0           0.0         0.0   \n",
              "13                    NaN                    0.0           0.0         0.0   \n",
              "...                   ...                    ...           ...         ...   \n",
              "57596                0.31                    0.0           8.9         0.7   \n",
              "57597                0.75                    0.0          36.6         2.4   \n",
              "57598                0.75                    0.0         114.2         7.4   \n",
              "57599                0.75                    0.0         113.4        16.2   \n",
              "57600                0.99                    0.0         105.1         8.9   \n",
              "\n",
              "       download_over_limit  churn  \n",
              "3                      0.0    1.0  \n",
              "4                      0.0    1.0  \n",
              "7                      0.0    1.0  \n",
              "12                     0.0    1.0  \n",
              "13                     0.0    1.0  \n",
              "...                    ...    ...  \n",
              "57596                  0.0    0.0  \n",
              "57597                  0.0    0.0  \n",
              "57598                  0.0    0.0  \n",
              "57599                  0.0    0.0  \n",
              "57600                  0.0    0.0  \n",
              "\n",
              "[55703 rows x 11 columns]"
            ],
            "text/html": [
              "\n",
              "  <div id=\"df-497ff816-c0af-44ba-988f-da6f6cc5dae0\">\n",
              "    <div class=\"colab-df-container\">\n",
              "      <div>\n",
              "<style scoped>\n",
              "    .dataframe tbody tr th:only-of-type {\n",
              "        vertical-align: middle;\n",
              "    }\n",
              "\n",
              "    .dataframe tbody tr th {\n",
              "        vertical-align: top;\n",
              "    }\n",
              "\n",
              "    .dataframe thead th {\n",
              "        text-align: right;\n",
              "    }\n",
              "</style>\n",
              "<table border=\"1\" class=\"dataframe\">\n",
              "  <thead>\n",
              "    <tr style=\"text-align: right;\">\n",
              "      <th></th>\n",
              "      <th>id</th>\n",
              "      <th>tv_subscriber</th>\n",
              "      <th>movie_subscriber</th>\n",
              "      <th>subscription_age</th>\n",
              "      <th>bill_avg</th>\n",
              "      <th>remaining_contract</th>\n",
              "      <th>service_failure_count</th>\n",
              "      <th>download_avg</th>\n",
              "      <th>upload_avg</th>\n",
              "      <th>download_over_limit</th>\n",
              "      <th>churn</th>\n",
              "    </tr>\n",
              "  </thead>\n",
              "  <tbody>\n",
              "    <tr>\n",
              "      <th>3</th>\n",
              "      <td>27</td>\n",
              "      <td>0</td>\n",
              "      <td>0</td>\n",
              "      <td>6.87</td>\n",
              "      <td>21</td>\n",
              "      <td>NaN</td>\n",
              "      <td>1.0</td>\n",
              "      <td>0.0</td>\n",
              "      <td>0.0</td>\n",
              "      <td>0.0</td>\n",
              "      <td>1.0</td>\n",
              "    </tr>\n",
              "    <tr>\n",
              "      <th>4</th>\n",
              "      <td>34</td>\n",
              "      <td>0</td>\n",
              "      <td>0</td>\n",
              "      <td>6.39</td>\n",
              "      <td>0</td>\n",
              "      <td>NaN</td>\n",
              "      <td>0.0</td>\n",
              "      <td>0.0</td>\n",
              "      <td>0.0</td>\n",
              "      <td>0.0</td>\n",
              "      <td>1.0</td>\n",
              "    </tr>\n",
              "    <tr>\n",
              "      <th>7</th>\n",
              "      <td>84</td>\n",
              "      <td>0</td>\n",
              "      <td>0</td>\n",
              "      <td>5.48</td>\n",
              "      <td>14</td>\n",
              "      <td>NaN</td>\n",
              "      <td>1.0</td>\n",
              "      <td>0.0</td>\n",
              "      <td>0.0</td>\n",
              "      <td>0.0</td>\n",
              "      <td>1.0</td>\n",
              "    </tr>\n",
              "    <tr>\n",
              "      <th>12</th>\n",
              "      <td>213</td>\n",
              "      <td>0</td>\n",
              "      <td>0</td>\n",
              "      <td>6.64</td>\n",
              "      <td>10</td>\n",
              "      <td>NaN</td>\n",
              "      <td>0.0</td>\n",
              "      <td>0.0</td>\n",
              "      <td>0.0</td>\n",
              "      <td>0.0</td>\n",
              "      <td>1.0</td>\n",
              "    </tr>\n",
              "    <tr>\n",
              "      <th>13</th>\n",
              "      <td>222</td>\n",
              "      <td>0</td>\n",
              "      <td>0</td>\n",
              "      <td>5.53</td>\n",
              "      <td>14</td>\n",
              "      <td>NaN</td>\n",
              "      <td>0.0</td>\n",
              "      <td>0.0</td>\n",
              "      <td>0.0</td>\n",
              "      <td>0.0</td>\n",
              "      <td>1.0</td>\n",
              "    </tr>\n",
              "    <tr>\n",
              "      <th>...</th>\n",
              "      <td>...</td>\n",
              "      <td>...</td>\n",
              "      <td>...</td>\n",
              "      <td>...</td>\n",
              "      <td>...</td>\n",
              "      <td>...</td>\n",
              "      <td>...</td>\n",
              "      <td>...</td>\n",
              "      <td>...</td>\n",
              "      <td>...</td>\n",
              "      <td>...</td>\n",
              "    </tr>\n",
              "    <tr>\n",
              "      <th>57596</th>\n",
              "      <td>1348955</td>\n",
              "      <td>1</td>\n",
              "      <td>0</td>\n",
              "      <td>1.22</td>\n",
              "      <td>13</td>\n",
              "      <td>0.31</td>\n",
              "      <td>0.0</td>\n",
              "      <td>8.9</td>\n",
              "      <td>0.7</td>\n",
              "      <td>0.0</td>\n",
              "      <td>0.0</td>\n",
              "    </tr>\n",
              "    <tr>\n",
              "      <th>57597</th>\n",
              "      <td>1348998</td>\n",
              "      <td>1</td>\n",
              "      <td>0</td>\n",
              "      <td>1.22</td>\n",
              "      <td>14</td>\n",
              "      <td>0.75</td>\n",
              "      <td>0.0</td>\n",
              "      <td>36.6</td>\n",
              "      <td>2.4</td>\n",
              "      <td>0.0</td>\n",
              "      <td>0.0</td>\n",
              "    </tr>\n",
              "    <tr>\n",
              "      <th>57598</th>\n",
              "      <td>1349014</td>\n",
              "      <td>1</td>\n",
              "      <td>0</td>\n",
              "      <td>1.22</td>\n",
              "      <td>14</td>\n",
              "      <td>0.75</td>\n",
              "      <td>0.0</td>\n",
              "      <td>114.2</td>\n",
              "      <td>7.4</td>\n",
              "      <td>0.0</td>\n",
              "      <td>0.0</td>\n",
              "    </tr>\n",
              "    <tr>\n",
              "      <th>57599</th>\n",
              "      <td>1349028</td>\n",
              "      <td>1</td>\n",
              "      <td>0</td>\n",
              "      <td>1.22</td>\n",
              "      <td>14</td>\n",
              "      <td>0.75</td>\n",
              "      <td>0.0</td>\n",
              "      <td>113.4</td>\n",
              "      <td>16.2</td>\n",
              "      <td>0.0</td>\n",
              "      <td>0.0</td>\n",
              "    </tr>\n",
              "    <tr>\n",
              "      <th>57600</th>\n",
              "      <td>1349055</td>\n",
              "      <td>1</td>\n",
              "      <td>0</td>\n",
              "      <td>1.22</td>\n",
              "      <td>12</td>\n",
              "      <td>0.99</td>\n",
              "      <td>0.0</td>\n",
              "      <td>105.1</td>\n",
              "      <td>8.9</td>\n",
              "      <td>0.0</td>\n",
              "      <td>0.0</td>\n",
              "    </tr>\n",
              "  </tbody>\n",
              "</table>\n",
              "<p>55703 rows × 11 columns</p>\n",
              "</div>\n",
              "      <button class=\"colab-df-convert\" onclick=\"convertToInteractive('df-497ff816-c0af-44ba-988f-da6f6cc5dae0')\"\n",
              "              title=\"Convert this dataframe to an interactive table.\"\n",
              "              style=\"display:none;\">\n",
              "        \n",
              "  <svg xmlns=\"http://www.w3.org/2000/svg\" height=\"24px\"viewBox=\"0 0 24 24\"\n",
              "       width=\"24px\">\n",
              "    <path d=\"M0 0h24v24H0V0z\" fill=\"none\"/>\n",
              "    <path d=\"M18.56 5.44l.94 2.06.94-2.06 2.06-.94-2.06-.94-.94-2.06-.94 2.06-2.06.94zm-11 1L8.5 8.5l.94-2.06 2.06-.94-2.06-.94L8.5 2.5l-.94 2.06-2.06.94zm10 10l.94 2.06.94-2.06 2.06-.94-2.06-.94-.94-2.06-.94 2.06-2.06.94z\"/><path d=\"M17.41 7.96l-1.37-1.37c-.4-.4-.92-.59-1.43-.59-.52 0-1.04.2-1.43.59L10.3 9.45l-7.72 7.72c-.78.78-.78 2.05 0 2.83L4 21.41c.39.39.9.59 1.41.59.51 0 1.02-.2 1.41-.59l7.78-7.78 2.81-2.81c.8-.78.8-2.07 0-2.86zM5.41 20L4 18.59l7.72-7.72 1.47 1.35L5.41 20z\"/>\n",
              "  </svg>\n",
              "      </button>\n",
              "      \n",
              "  <style>\n",
              "    .colab-df-container {\n",
              "      display:flex;\n",
              "      flex-wrap:wrap;\n",
              "      gap: 12px;\n",
              "    }\n",
              "\n",
              "    .colab-df-convert {\n",
              "      background-color: #E8F0FE;\n",
              "      border: none;\n",
              "      border-radius: 50%;\n",
              "      cursor: pointer;\n",
              "      display: none;\n",
              "      fill: #1967D2;\n",
              "      height: 32px;\n",
              "      padding: 0 0 0 0;\n",
              "      width: 32px;\n",
              "    }\n",
              "\n",
              "    .colab-df-convert:hover {\n",
              "      background-color: #E2EBFA;\n",
              "      box-shadow: 0px 1px 2px rgba(60, 64, 67, 0.3), 0px 1px 3px 1px rgba(60, 64, 67, 0.15);\n",
              "      fill: #174EA6;\n",
              "    }\n",
              "\n",
              "    [theme=dark] .colab-df-convert {\n",
              "      background-color: #3B4455;\n",
              "      fill: #D2E3FC;\n",
              "    }\n",
              "\n",
              "    [theme=dark] .colab-df-convert:hover {\n",
              "      background-color: #434B5C;\n",
              "      box-shadow: 0px 1px 3px 1px rgba(0, 0, 0, 0.15);\n",
              "      filter: drop-shadow(0px 1px 2px rgba(0, 0, 0, 0.3));\n",
              "      fill: #FFFFFF;\n",
              "    }\n",
              "  </style>\n",
              "\n",
              "      <script>\n",
              "        const buttonEl =\n",
              "          document.querySelector('#df-497ff816-c0af-44ba-988f-da6f6cc5dae0 button.colab-df-convert');\n",
              "        buttonEl.style.display =\n",
              "          google.colab.kernel.accessAllowed ? 'block' : 'none';\n",
              "\n",
              "        async function convertToInteractive(key) {\n",
              "          const element = document.querySelector('#df-497ff816-c0af-44ba-988f-da6f6cc5dae0');\n",
              "          const dataTable =\n",
              "            await google.colab.kernel.invokeFunction('convertToInteractive',\n",
              "                                                     [key], {});\n",
              "          if (!dataTable) return;\n",
              "\n",
              "          const docLinkHtml = 'Like what you see? Visit the ' +\n",
              "            '<a target=\"_blank\" href=https://colab.research.google.com/notebooks/data_table.ipynb>data table notebook</a>'\n",
              "            + ' to learn more about interactive tables.';\n",
              "          element.innerHTML = '';\n",
              "          dataTable['output_type'] = 'display_data';\n",
              "          await google.colab.output.renderOutput(dataTable, element);\n",
              "          const docLink = document.createElement('div');\n",
              "          docLink.innerHTML = docLinkHtml;\n",
              "          element.appendChild(docLink);\n",
              "        }\n",
              "      </script>\n",
              "    </div>\n",
              "  </div>\n",
              "  "
            ]
          },
          "metadata": {},
          "execution_count": 10
        }
      ]
    },
    {
      "cell_type": "code",
      "source": [
        "df = outlier(df, 'bill_avg' )\n",
        "df"
      ],
      "metadata": {
        "colab": {
          "base_uri": "https://localhost:8080/",
          "height": 488
        },
        "id": "l2ZEuKOHrQ8f",
        "outputId": "cb5207d0-cfda-4df8-b55e-24dc8d1644b7"
      },
      "execution_count": 11,
      "outputs": [
        {
          "output_type": "execute_result",
          "data": {
            "text/plain": [
              "            id  tv_subscriber  movie_subscriber  subscription_age  bill_avg  \\\n",
              "3           27              0                 0              6.87        21   \n",
              "4           34              0                 0              6.39         0   \n",
              "7           84              0                 0              5.48        14   \n",
              "12         213              0                 0              6.64        10   \n",
              "13         222              0                 0              5.53        14   \n",
              "...        ...            ...               ...               ...       ...   \n",
              "57596  1348955              1                 0              1.22        13   \n",
              "57597  1348998              1                 0              1.22        14   \n",
              "57598  1349014              1                 0              1.22        14   \n",
              "57599  1349028              1                 0              1.22        14   \n",
              "57600  1349055              1                 0              1.22        12   \n",
              "\n",
              "       remaining_contract  service_failure_count  download_avg  upload_avg  \\\n",
              "3                     NaN                    1.0           0.0         0.0   \n",
              "4                     NaN                    0.0           0.0         0.0   \n",
              "7                     NaN                    1.0           0.0         0.0   \n",
              "12                    NaN                    0.0           0.0         0.0   \n",
              "13                    NaN                    0.0           0.0         0.0   \n",
              "...                   ...                    ...           ...         ...   \n",
              "57596                0.31                    0.0           8.9         0.7   \n",
              "57597                0.75                    0.0          36.6         2.4   \n",
              "57598                0.75                    0.0         114.2         7.4   \n",
              "57599                0.75                    0.0         113.4        16.2   \n",
              "57600                0.99                    0.0         105.1         8.9   \n",
              "\n",
              "       download_over_limit  churn  \n",
              "3                      0.0    1.0  \n",
              "4                      0.0    1.0  \n",
              "7                      0.0    1.0  \n",
              "12                     0.0    1.0  \n",
              "13                     0.0    1.0  \n",
              "...                    ...    ...  \n",
              "57596                  0.0    0.0  \n",
              "57597                  0.0    0.0  \n",
              "57598                  0.0    0.0  \n",
              "57599                  0.0    0.0  \n",
              "57600                  0.0    0.0  \n",
              "\n",
              "[53563 rows x 11 columns]"
            ],
            "text/html": [
              "\n",
              "  <div id=\"df-3da71649-38d9-487f-847e-3a9204c1f907\">\n",
              "    <div class=\"colab-df-container\">\n",
              "      <div>\n",
              "<style scoped>\n",
              "    .dataframe tbody tr th:only-of-type {\n",
              "        vertical-align: middle;\n",
              "    }\n",
              "\n",
              "    .dataframe tbody tr th {\n",
              "        vertical-align: top;\n",
              "    }\n",
              "\n",
              "    .dataframe thead th {\n",
              "        text-align: right;\n",
              "    }\n",
              "</style>\n",
              "<table border=\"1\" class=\"dataframe\">\n",
              "  <thead>\n",
              "    <tr style=\"text-align: right;\">\n",
              "      <th></th>\n",
              "      <th>id</th>\n",
              "      <th>tv_subscriber</th>\n",
              "      <th>movie_subscriber</th>\n",
              "      <th>subscription_age</th>\n",
              "      <th>bill_avg</th>\n",
              "      <th>remaining_contract</th>\n",
              "      <th>service_failure_count</th>\n",
              "      <th>download_avg</th>\n",
              "      <th>upload_avg</th>\n",
              "      <th>download_over_limit</th>\n",
              "      <th>churn</th>\n",
              "    </tr>\n",
              "  </thead>\n",
              "  <tbody>\n",
              "    <tr>\n",
              "      <th>3</th>\n",
              "      <td>27</td>\n",
              "      <td>0</td>\n",
              "      <td>0</td>\n",
              "      <td>6.87</td>\n",
              "      <td>21</td>\n",
              "      <td>NaN</td>\n",
              "      <td>1.0</td>\n",
              "      <td>0.0</td>\n",
              "      <td>0.0</td>\n",
              "      <td>0.0</td>\n",
              "      <td>1.0</td>\n",
              "    </tr>\n",
              "    <tr>\n",
              "      <th>4</th>\n",
              "      <td>34</td>\n",
              "      <td>0</td>\n",
              "      <td>0</td>\n",
              "      <td>6.39</td>\n",
              "      <td>0</td>\n",
              "      <td>NaN</td>\n",
              "      <td>0.0</td>\n",
              "      <td>0.0</td>\n",
              "      <td>0.0</td>\n",
              "      <td>0.0</td>\n",
              "      <td>1.0</td>\n",
              "    </tr>\n",
              "    <tr>\n",
              "      <th>7</th>\n",
              "      <td>84</td>\n",
              "      <td>0</td>\n",
              "      <td>0</td>\n",
              "      <td>5.48</td>\n",
              "      <td>14</td>\n",
              "      <td>NaN</td>\n",
              "      <td>1.0</td>\n",
              "      <td>0.0</td>\n",
              "      <td>0.0</td>\n",
              "      <td>0.0</td>\n",
              "      <td>1.0</td>\n",
              "    </tr>\n",
              "    <tr>\n",
              "      <th>12</th>\n",
              "      <td>213</td>\n",
              "      <td>0</td>\n",
              "      <td>0</td>\n",
              "      <td>6.64</td>\n",
              "      <td>10</td>\n",
              "      <td>NaN</td>\n",
              "      <td>0.0</td>\n",
              "      <td>0.0</td>\n",
              "      <td>0.0</td>\n",
              "      <td>0.0</td>\n",
              "      <td>1.0</td>\n",
              "    </tr>\n",
              "    <tr>\n",
              "      <th>13</th>\n",
              "      <td>222</td>\n",
              "      <td>0</td>\n",
              "      <td>0</td>\n",
              "      <td>5.53</td>\n",
              "      <td>14</td>\n",
              "      <td>NaN</td>\n",
              "      <td>0.0</td>\n",
              "      <td>0.0</td>\n",
              "      <td>0.0</td>\n",
              "      <td>0.0</td>\n",
              "      <td>1.0</td>\n",
              "    </tr>\n",
              "    <tr>\n",
              "      <th>...</th>\n",
              "      <td>...</td>\n",
              "      <td>...</td>\n",
              "      <td>...</td>\n",
              "      <td>...</td>\n",
              "      <td>...</td>\n",
              "      <td>...</td>\n",
              "      <td>...</td>\n",
              "      <td>...</td>\n",
              "      <td>...</td>\n",
              "      <td>...</td>\n",
              "      <td>...</td>\n",
              "    </tr>\n",
              "    <tr>\n",
              "      <th>57596</th>\n",
              "      <td>1348955</td>\n",
              "      <td>1</td>\n",
              "      <td>0</td>\n",
              "      <td>1.22</td>\n",
              "      <td>13</td>\n",
              "      <td>0.31</td>\n",
              "      <td>0.0</td>\n",
              "      <td>8.9</td>\n",
              "      <td>0.7</td>\n",
              "      <td>0.0</td>\n",
              "      <td>0.0</td>\n",
              "    </tr>\n",
              "    <tr>\n",
              "      <th>57597</th>\n",
              "      <td>1348998</td>\n",
              "      <td>1</td>\n",
              "      <td>0</td>\n",
              "      <td>1.22</td>\n",
              "      <td>14</td>\n",
              "      <td>0.75</td>\n",
              "      <td>0.0</td>\n",
              "      <td>36.6</td>\n",
              "      <td>2.4</td>\n",
              "      <td>0.0</td>\n",
              "      <td>0.0</td>\n",
              "    </tr>\n",
              "    <tr>\n",
              "      <th>57598</th>\n",
              "      <td>1349014</td>\n",
              "      <td>1</td>\n",
              "      <td>0</td>\n",
              "      <td>1.22</td>\n",
              "      <td>14</td>\n",
              "      <td>0.75</td>\n",
              "      <td>0.0</td>\n",
              "      <td>114.2</td>\n",
              "      <td>7.4</td>\n",
              "      <td>0.0</td>\n",
              "      <td>0.0</td>\n",
              "    </tr>\n",
              "    <tr>\n",
              "      <th>57599</th>\n",
              "      <td>1349028</td>\n",
              "      <td>1</td>\n",
              "      <td>0</td>\n",
              "      <td>1.22</td>\n",
              "      <td>14</td>\n",
              "      <td>0.75</td>\n",
              "      <td>0.0</td>\n",
              "      <td>113.4</td>\n",
              "      <td>16.2</td>\n",
              "      <td>0.0</td>\n",
              "      <td>0.0</td>\n",
              "    </tr>\n",
              "    <tr>\n",
              "      <th>57600</th>\n",
              "      <td>1349055</td>\n",
              "      <td>1</td>\n",
              "      <td>0</td>\n",
              "      <td>1.22</td>\n",
              "      <td>12</td>\n",
              "      <td>0.99</td>\n",
              "      <td>0.0</td>\n",
              "      <td>105.1</td>\n",
              "      <td>8.9</td>\n",
              "      <td>0.0</td>\n",
              "      <td>0.0</td>\n",
              "    </tr>\n",
              "  </tbody>\n",
              "</table>\n",
              "<p>53563 rows × 11 columns</p>\n",
              "</div>\n",
              "      <button class=\"colab-df-convert\" onclick=\"convertToInteractive('df-3da71649-38d9-487f-847e-3a9204c1f907')\"\n",
              "              title=\"Convert this dataframe to an interactive table.\"\n",
              "              style=\"display:none;\">\n",
              "        \n",
              "  <svg xmlns=\"http://www.w3.org/2000/svg\" height=\"24px\"viewBox=\"0 0 24 24\"\n",
              "       width=\"24px\">\n",
              "    <path d=\"M0 0h24v24H0V0z\" fill=\"none\"/>\n",
              "    <path d=\"M18.56 5.44l.94 2.06.94-2.06 2.06-.94-2.06-.94-.94-2.06-.94 2.06-2.06.94zm-11 1L8.5 8.5l.94-2.06 2.06-.94-2.06-.94L8.5 2.5l-.94 2.06-2.06.94zm10 10l.94 2.06.94-2.06 2.06-.94-2.06-.94-.94-2.06-.94 2.06-2.06.94z\"/><path d=\"M17.41 7.96l-1.37-1.37c-.4-.4-.92-.59-1.43-.59-.52 0-1.04.2-1.43.59L10.3 9.45l-7.72 7.72c-.78.78-.78 2.05 0 2.83L4 21.41c.39.39.9.59 1.41.59.51 0 1.02-.2 1.41-.59l7.78-7.78 2.81-2.81c.8-.78.8-2.07 0-2.86zM5.41 20L4 18.59l7.72-7.72 1.47 1.35L5.41 20z\"/>\n",
              "  </svg>\n",
              "      </button>\n",
              "      \n",
              "  <style>\n",
              "    .colab-df-container {\n",
              "      display:flex;\n",
              "      flex-wrap:wrap;\n",
              "      gap: 12px;\n",
              "    }\n",
              "\n",
              "    .colab-df-convert {\n",
              "      background-color: #E8F0FE;\n",
              "      border: none;\n",
              "      border-radius: 50%;\n",
              "      cursor: pointer;\n",
              "      display: none;\n",
              "      fill: #1967D2;\n",
              "      height: 32px;\n",
              "      padding: 0 0 0 0;\n",
              "      width: 32px;\n",
              "    }\n",
              "\n",
              "    .colab-df-convert:hover {\n",
              "      background-color: #E2EBFA;\n",
              "      box-shadow: 0px 1px 2px rgba(60, 64, 67, 0.3), 0px 1px 3px 1px rgba(60, 64, 67, 0.15);\n",
              "      fill: #174EA6;\n",
              "    }\n",
              "\n",
              "    [theme=dark] .colab-df-convert {\n",
              "      background-color: #3B4455;\n",
              "      fill: #D2E3FC;\n",
              "    }\n",
              "\n",
              "    [theme=dark] .colab-df-convert:hover {\n",
              "      background-color: #434B5C;\n",
              "      box-shadow: 0px 1px 3px 1px rgba(0, 0, 0, 0.15);\n",
              "      filter: drop-shadow(0px 1px 2px rgba(0, 0, 0, 0.3));\n",
              "      fill: #FFFFFF;\n",
              "    }\n",
              "  </style>\n",
              "\n",
              "      <script>\n",
              "        const buttonEl =\n",
              "          document.querySelector('#df-3da71649-38d9-487f-847e-3a9204c1f907 button.colab-df-convert');\n",
              "        buttonEl.style.display =\n",
              "          google.colab.kernel.accessAllowed ? 'block' : 'none';\n",
              "\n",
              "        async function convertToInteractive(key) {\n",
              "          const element = document.querySelector('#df-3da71649-38d9-487f-847e-3a9204c1f907');\n",
              "          const dataTable =\n",
              "            await google.colab.kernel.invokeFunction('convertToInteractive',\n",
              "                                                     [key], {});\n",
              "          if (!dataTable) return;\n",
              "\n",
              "          const docLinkHtml = 'Like what you see? Visit the ' +\n",
              "            '<a target=\"_blank\" href=https://colab.research.google.com/notebooks/data_table.ipynb>data table notebook</a>'\n",
              "            + ' to learn more about interactive tables.';\n",
              "          element.innerHTML = '';\n",
              "          dataTable['output_type'] = 'display_data';\n",
              "          await google.colab.output.renderOutput(dataTable, element);\n",
              "          const docLink = document.createElement('div');\n",
              "          docLink.innerHTML = docLinkHtml;\n",
              "          element.appendChild(docLink);\n",
              "        }\n",
              "      </script>\n",
              "    </div>\n",
              "  </div>\n",
              "  "
            ]
          },
          "metadata": {},
          "execution_count": 11
        }
      ]
    },
    {
      "cell_type": "code",
      "source": [
        "df = outlier(df, 'download_avg' )\n",
        "df"
      ],
      "metadata": {
        "colab": {
          "base_uri": "https://localhost:8080/",
          "height": 488
        },
        "id": "4NAN41QQrY8_",
        "outputId": "32cec956-27e1-4f94-a22d-694394d95d86"
      },
      "execution_count": 12,
      "outputs": [
        {
          "output_type": "execute_result",
          "data": {
            "text/plain": [
              "            id  tv_subscriber  movie_subscriber  subscription_age  bill_avg  \\\n",
              "3           27              0                 0              6.87        21   \n",
              "4           34              0                 0              6.39         0   \n",
              "7           84              0                 0              5.48        14   \n",
              "12         213              0                 0              6.64        10   \n",
              "13         222              0                 0              5.53        14   \n",
              "...        ...            ...               ...               ...       ...   \n",
              "57596  1348955              1                 0              1.22        13   \n",
              "57597  1348998              1                 0              1.22        14   \n",
              "57598  1349014              1                 0              1.22        14   \n",
              "57599  1349028              1                 0              1.22        14   \n",
              "57600  1349055              1                 0              1.22        12   \n",
              "\n",
              "       remaining_contract  service_failure_count  download_avg  upload_avg  \\\n",
              "3                     NaN                    1.0           0.0         0.0   \n",
              "4                     NaN                    0.0           0.0         0.0   \n",
              "7                     NaN                    1.0           0.0         0.0   \n",
              "12                    NaN                    0.0           0.0         0.0   \n",
              "13                    NaN                    0.0           0.0         0.0   \n",
              "...                   ...                    ...           ...         ...   \n",
              "57596                0.31                    0.0           8.9         0.7   \n",
              "57597                0.75                    0.0          36.6         2.4   \n",
              "57598                0.75                    0.0         114.2         7.4   \n",
              "57599                0.75                    0.0         113.4        16.2   \n",
              "57600                0.99                    0.0         105.1         8.9   \n",
              "\n",
              "       download_over_limit  churn  \n",
              "3                      0.0    1.0  \n",
              "4                      0.0    1.0  \n",
              "7                      0.0    1.0  \n",
              "12                     0.0    1.0  \n",
              "13                     0.0    1.0  \n",
              "...                    ...    ...  \n",
              "57596                  0.0    0.0  \n",
              "57597                  0.0    0.0  \n",
              "57598                  0.0    0.0  \n",
              "57599                  0.0    0.0  \n",
              "57600                  0.0    0.0  \n",
              "\n",
              "[51072 rows x 11 columns]"
            ],
            "text/html": [
              "\n",
              "  <div id=\"df-c6fd18af-1d5a-494a-a9b3-5d7299eea452\">\n",
              "    <div class=\"colab-df-container\">\n",
              "      <div>\n",
              "<style scoped>\n",
              "    .dataframe tbody tr th:only-of-type {\n",
              "        vertical-align: middle;\n",
              "    }\n",
              "\n",
              "    .dataframe tbody tr th {\n",
              "        vertical-align: top;\n",
              "    }\n",
              "\n",
              "    .dataframe thead th {\n",
              "        text-align: right;\n",
              "    }\n",
              "</style>\n",
              "<table border=\"1\" class=\"dataframe\">\n",
              "  <thead>\n",
              "    <tr style=\"text-align: right;\">\n",
              "      <th></th>\n",
              "      <th>id</th>\n",
              "      <th>tv_subscriber</th>\n",
              "      <th>movie_subscriber</th>\n",
              "      <th>subscription_age</th>\n",
              "      <th>bill_avg</th>\n",
              "      <th>remaining_contract</th>\n",
              "      <th>service_failure_count</th>\n",
              "      <th>download_avg</th>\n",
              "      <th>upload_avg</th>\n",
              "      <th>download_over_limit</th>\n",
              "      <th>churn</th>\n",
              "    </tr>\n",
              "  </thead>\n",
              "  <tbody>\n",
              "    <tr>\n",
              "      <th>3</th>\n",
              "      <td>27</td>\n",
              "      <td>0</td>\n",
              "      <td>0</td>\n",
              "      <td>6.87</td>\n",
              "      <td>21</td>\n",
              "      <td>NaN</td>\n",
              "      <td>1.0</td>\n",
              "      <td>0.0</td>\n",
              "      <td>0.0</td>\n",
              "      <td>0.0</td>\n",
              "      <td>1.0</td>\n",
              "    </tr>\n",
              "    <tr>\n",
              "      <th>4</th>\n",
              "      <td>34</td>\n",
              "      <td>0</td>\n",
              "      <td>0</td>\n",
              "      <td>6.39</td>\n",
              "      <td>0</td>\n",
              "      <td>NaN</td>\n",
              "      <td>0.0</td>\n",
              "      <td>0.0</td>\n",
              "      <td>0.0</td>\n",
              "      <td>0.0</td>\n",
              "      <td>1.0</td>\n",
              "    </tr>\n",
              "    <tr>\n",
              "      <th>7</th>\n",
              "      <td>84</td>\n",
              "      <td>0</td>\n",
              "      <td>0</td>\n",
              "      <td>5.48</td>\n",
              "      <td>14</td>\n",
              "      <td>NaN</td>\n",
              "      <td>1.0</td>\n",
              "      <td>0.0</td>\n",
              "      <td>0.0</td>\n",
              "      <td>0.0</td>\n",
              "      <td>1.0</td>\n",
              "    </tr>\n",
              "    <tr>\n",
              "      <th>12</th>\n",
              "      <td>213</td>\n",
              "      <td>0</td>\n",
              "      <td>0</td>\n",
              "      <td>6.64</td>\n",
              "      <td>10</td>\n",
              "      <td>NaN</td>\n",
              "      <td>0.0</td>\n",
              "      <td>0.0</td>\n",
              "      <td>0.0</td>\n",
              "      <td>0.0</td>\n",
              "      <td>1.0</td>\n",
              "    </tr>\n",
              "    <tr>\n",
              "      <th>13</th>\n",
              "      <td>222</td>\n",
              "      <td>0</td>\n",
              "      <td>0</td>\n",
              "      <td>5.53</td>\n",
              "      <td>14</td>\n",
              "      <td>NaN</td>\n",
              "      <td>0.0</td>\n",
              "      <td>0.0</td>\n",
              "      <td>0.0</td>\n",
              "      <td>0.0</td>\n",
              "      <td>1.0</td>\n",
              "    </tr>\n",
              "    <tr>\n",
              "      <th>...</th>\n",
              "      <td>...</td>\n",
              "      <td>...</td>\n",
              "      <td>...</td>\n",
              "      <td>...</td>\n",
              "      <td>...</td>\n",
              "      <td>...</td>\n",
              "      <td>...</td>\n",
              "      <td>...</td>\n",
              "      <td>...</td>\n",
              "      <td>...</td>\n",
              "      <td>...</td>\n",
              "    </tr>\n",
              "    <tr>\n",
              "      <th>57596</th>\n",
              "      <td>1348955</td>\n",
              "      <td>1</td>\n",
              "      <td>0</td>\n",
              "      <td>1.22</td>\n",
              "      <td>13</td>\n",
              "      <td>0.31</td>\n",
              "      <td>0.0</td>\n",
              "      <td>8.9</td>\n",
              "      <td>0.7</td>\n",
              "      <td>0.0</td>\n",
              "      <td>0.0</td>\n",
              "    </tr>\n",
              "    <tr>\n",
              "      <th>57597</th>\n",
              "      <td>1348998</td>\n",
              "      <td>1</td>\n",
              "      <td>0</td>\n",
              "      <td>1.22</td>\n",
              "      <td>14</td>\n",
              "      <td>0.75</td>\n",
              "      <td>0.0</td>\n",
              "      <td>36.6</td>\n",
              "      <td>2.4</td>\n",
              "      <td>0.0</td>\n",
              "      <td>0.0</td>\n",
              "    </tr>\n",
              "    <tr>\n",
              "      <th>57598</th>\n",
              "      <td>1349014</td>\n",
              "      <td>1</td>\n",
              "      <td>0</td>\n",
              "      <td>1.22</td>\n",
              "      <td>14</td>\n",
              "      <td>0.75</td>\n",
              "      <td>0.0</td>\n",
              "      <td>114.2</td>\n",
              "      <td>7.4</td>\n",
              "      <td>0.0</td>\n",
              "      <td>0.0</td>\n",
              "    </tr>\n",
              "    <tr>\n",
              "      <th>57599</th>\n",
              "      <td>1349028</td>\n",
              "      <td>1</td>\n",
              "      <td>0</td>\n",
              "      <td>1.22</td>\n",
              "      <td>14</td>\n",
              "      <td>0.75</td>\n",
              "      <td>0.0</td>\n",
              "      <td>113.4</td>\n",
              "      <td>16.2</td>\n",
              "      <td>0.0</td>\n",
              "      <td>0.0</td>\n",
              "    </tr>\n",
              "    <tr>\n",
              "      <th>57600</th>\n",
              "      <td>1349055</td>\n",
              "      <td>1</td>\n",
              "      <td>0</td>\n",
              "      <td>1.22</td>\n",
              "      <td>12</td>\n",
              "      <td>0.99</td>\n",
              "      <td>0.0</td>\n",
              "      <td>105.1</td>\n",
              "      <td>8.9</td>\n",
              "      <td>0.0</td>\n",
              "      <td>0.0</td>\n",
              "    </tr>\n",
              "  </tbody>\n",
              "</table>\n",
              "<p>51072 rows × 11 columns</p>\n",
              "</div>\n",
              "      <button class=\"colab-df-convert\" onclick=\"convertToInteractive('df-c6fd18af-1d5a-494a-a9b3-5d7299eea452')\"\n",
              "              title=\"Convert this dataframe to an interactive table.\"\n",
              "              style=\"display:none;\">\n",
              "        \n",
              "  <svg xmlns=\"http://www.w3.org/2000/svg\" height=\"24px\"viewBox=\"0 0 24 24\"\n",
              "       width=\"24px\">\n",
              "    <path d=\"M0 0h24v24H0V0z\" fill=\"none\"/>\n",
              "    <path d=\"M18.56 5.44l.94 2.06.94-2.06 2.06-.94-2.06-.94-.94-2.06-.94 2.06-2.06.94zm-11 1L8.5 8.5l.94-2.06 2.06-.94-2.06-.94L8.5 2.5l-.94 2.06-2.06.94zm10 10l.94 2.06.94-2.06 2.06-.94-2.06-.94-.94-2.06-.94 2.06-2.06.94z\"/><path d=\"M17.41 7.96l-1.37-1.37c-.4-.4-.92-.59-1.43-.59-.52 0-1.04.2-1.43.59L10.3 9.45l-7.72 7.72c-.78.78-.78 2.05 0 2.83L4 21.41c.39.39.9.59 1.41.59.51 0 1.02-.2 1.41-.59l7.78-7.78 2.81-2.81c.8-.78.8-2.07 0-2.86zM5.41 20L4 18.59l7.72-7.72 1.47 1.35L5.41 20z\"/>\n",
              "  </svg>\n",
              "      </button>\n",
              "      \n",
              "  <style>\n",
              "    .colab-df-container {\n",
              "      display:flex;\n",
              "      flex-wrap:wrap;\n",
              "      gap: 12px;\n",
              "    }\n",
              "\n",
              "    .colab-df-convert {\n",
              "      background-color: #E8F0FE;\n",
              "      border: none;\n",
              "      border-radius: 50%;\n",
              "      cursor: pointer;\n",
              "      display: none;\n",
              "      fill: #1967D2;\n",
              "      height: 32px;\n",
              "      padding: 0 0 0 0;\n",
              "      width: 32px;\n",
              "    }\n",
              "\n",
              "    .colab-df-convert:hover {\n",
              "      background-color: #E2EBFA;\n",
              "      box-shadow: 0px 1px 2px rgba(60, 64, 67, 0.3), 0px 1px 3px 1px rgba(60, 64, 67, 0.15);\n",
              "      fill: #174EA6;\n",
              "    }\n",
              "\n",
              "    [theme=dark] .colab-df-convert {\n",
              "      background-color: #3B4455;\n",
              "      fill: #D2E3FC;\n",
              "    }\n",
              "\n",
              "    [theme=dark] .colab-df-convert:hover {\n",
              "      background-color: #434B5C;\n",
              "      box-shadow: 0px 1px 3px 1px rgba(0, 0, 0, 0.15);\n",
              "      filter: drop-shadow(0px 1px 2px rgba(0, 0, 0, 0.3));\n",
              "      fill: #FFFFFF;\n",
              "    }\n",
              "  </style>\n",
              "\n",
              "      <script>\n",
              "        const buttonEl =\n",
              "          document.querySelector('#df-c6fd18af-1d5a-494a-a9b3-5d7299eea452 button.colab-df-convert');\n",
              "        buttonEl.style.display =\n",
              "          google.colab.kernel.accessAllowed ? 'block' : 'none';\n",
              "\n",
              "        async function convertToInteractive(key) {\n",
              "          const element = document.querySelector('#df-c6fd18af-1d5a-494a-a9b3-5d7299eea452');\n",
              "          const dataTable =\n",
              "            await google.colab.kernel.invokeFunction('convertToInteractive',\n",
              "                                                     [key], {});\n",
              "          if (!dataTable) return;\n",
              "\n",
              "          const docLinkHtml = 'Like what you see? Visit the ' +\n",
              "            '<a target=\"_blank\" href=https://colab.research.google.com/notebooks/data_table.ipynb>data table notebook</a>'\n",
              "            + ' to learn more about interactive tables.';\n",
              "          element.innerHTML = '';\n",
              "          dataTable['output_type'] = 'display_data';\n",
              "          await google.colab.output.renderOutput(dataTable, element);\n",
              "          const docLink = document.createElement('div');\n",
              "          docLink.innerHTML = docLinkHtml;\n",
              "          element.appendChild(docLink);\n",
              "        }\n",
              "      </script>\n",
              "    </div>\n",
              "  </div>\n",
              "  "
            ]
          },
          "metadata": {},
          "execution_count": 12
        }
      ]
    },
    {
      "cell_type": "code",
      "source": [
        "df = outlier(df, 'upload_avg' )"
      ],
      "metadata": {
        "id": "rRnDC3toreuq"
      },
      "execution_count": 13,
      "outputs": []
    },
    {
      "cell_type": "code",
      "source": [
        "df.agg('nunique')"
      ],
      "metadata": {
        "colab": {
          "base_uri": "https://localhost:8080/"
        },
        "id": "VjMn53bvrklH",
        "outputId": "26579e72-11c3-499f-cd79-730af457576c"
      },
      "execution_count": 16,
      "outputs": [
        {
          "output_type": "execute_result",
          "data": {
            "text/plain": [
              "id                       48436\n",
              "tv_subscriber                2\n",
              "movie_subscriber             2\n",
              "subscription_age           751\n",
              "bill_avg                    39\n",
              "remaining_contract         225\n",
              "service_failure_count       17\n",
              "download_avg              1264\n",
              "upload_avg                  90\n",
              "download_over_limit          8\n",
              "churn                        2\n",
              "dtype: int64"
            ]
          },
          "metadata": {},
          "execution_count": 16
        }
      ]
    },
    {
      "cell_type": "code",
      "source": [
        "df = df.reset_index()\n",
        "df"
      ],
      "metadata": {
        "colab": {
          "base_uri": "https://localhost:8080/",
          "height": 488
        },
        "id": "PNCf2rGIroVq",
        "outputId": "ea81856d-171f-4e5e-b965-b27f36b62090"
      },
      "execution_count": 14,
      "outputs": [
        {
          "output_type": "execute_result",
          "data": {
            "text/plain": [
              "       index       id  tv_subscriber  movie_subscriber  subscription_age  \\\n",
              "0          3       27              0                 0              6.87   \n",
              "1          4       34              0                 0              6.39   \n",
              "2          7       84              0                 0              5.48   \n",
              "3         12      213              0                 0              6.64   \n",
              "4         13      222              0                 0              5.53   \n",
              "...      ...      ...            ...               ...               ...   \n",
              "48431  57595  1348942              1                 0              1.91   \n",
              "48432  57596  1348955              1                 0              1.22   \n",
              "48433  57597  1348998              1                 0              1.22   \n",
              "48434  57598  1349014              1                 0              1.22   \n",
              "48435  57600  1349055              1                 0              1.22   \n",
              "\n",
              "       bill_avg  remaining_contract  service_failure_count  download_avg  \\\n",
              "0            21                 NaN                    1.0           0.0   \n",
              "1             0                 NaN                    0.0           0.0   \n",
              "2            14                 NaN                    1.0           0.0   \n",
              "3            10                 NaN                    0.0           0.0   \n",
              "4            14                 NaN                    0.0           0.0   \n",
              "...         ...                 ...                    ...           ...   \n",
              "48431        37                 NaN                    0.0          65.3   \n",
              "48432        13                0.31                    0.0           8.9   \n",
              "48433        14                0.75                    0.0          36.6   \n",
              "48434        14                0.75                    0.0         114.2   \n",
              "48435        12                0.99                    0.0         105.1   \n",
              "\n",
              "       upload_avg  download_over_limit  churn  \n",
              "0             0.0                  0.0    1.0  \n",
              "1             0.0                  0.0    1.0  \n",
              "2             0.0                  0.0    1.0  \n",
              "3             0.0                  0.0    1.0  \n",
              "4             0.0                  0.0    1.0  \n",
              "...           ...                  ...    ...  \n",
              "48431         5.6                  0.0    1.0  \n",
              "48432         0.7                  0.0    0.0  \n",
              "48433         2.4                  0.0    0.0  \n",
              "48434         7.4                  0.0    0.0  \n",
              "48435         8.9                  0.0    0.0  \n",
              "\n",
              "[48436 rows x 12 columns]"
            ],
            "text/html": [
              "\n",
              "  <div id=\"df-cbe075fd-a37f-4a6c-9135-2d41cba6eb6b\">\n",
              "    <div class=\"colab-df-container\">\n",
              "      <div>\n",
              "<style scoped>\n",
              "    .dataframe tbody tr th:only-of-type {\n",
              "        vertical-align: middle;\n",
              "    }\n",
              "\n",
              "    .dataframe tbody tr th {\n",
              "        vertical-align: top;\n",
              "    }\n",
              "\n",
              "    .dataframe thead th {\n",
              "        text-align: right;\n",
              "    }\n",
              "</style>\n",
              "<table border=\"1\" class=\"dataframe\">\n",
              "  <thead>\n",
              "    <tr style=\"text-align: right;\">\n",
              "      <th></th>\n",
              "      <th>index</th>\n",
              "      <th>id</th>\n",
              "      <th>tv_subscriber</th>\n",
              "      <th>movie_subscriber</th>\n",
              "      <th>subscription_age</th>\n",
              "      <th>bill_avg</th>\n",
              "      <th>remaining_contract</th>\n",
              "      <th>service_failure_count</th>\n",
              "      <th>download_avg</th>\n",
              "      <th>upload_avg</th>\n",
              "      <th>download_over_limit</th>\n",
              "      <th>churn</th>\n",
              "    </tr>\n",
              "  </thead>\n",
              "  <tbody>\n",
              "    <tr>\n",
              "      <th>0</th>\n",
              "      <td>3</td>\n",
              "      <td>27</td>\n",
              "      <td>0</td>\n",
              "      <td>0</td>\n",
              "      <td>6.87</td>\n",
              "      <td>21</td>\n",
              "      <td>NaN</td>\n",
              "      <td>1.0</td>\n",
              "      <td>0.0</td>\n",
              "      <td>0.0</td>\n",
              "      <td>0.0</td>\n",
              "      <td>1.0</td>\n",
              "    </tr>\n",
              "    <tr>\n",
              "      <th>1</th>\n",
              "      <td>4</td>\n",
              "      <td>34</td>\n",
              "      <td>0</td>\n",
              "      <td>0</td>\n",
              "      <td>6.39</td>\n",
              "      <td>0</td>\n",
              "      <td>NaN</td>\n",
              "      <td>0.0</td>\n",
              "      <td>0.0</td>\n",
              "      <td>0.0</td>\n",
              "      <td>0.0</td>\n",
              "      <td>1.0</td>\n",
              "    </tr>\n",
              "    <tr>\n",
              "      <th>2</th>\n",
              "      <td>7</td>\n",
              "      <td>84</td>\n",
              "      <td>0</td>\n",
              "      <td>0</td>\n",
              "      <td>5.48</td>\n",
              "      <td>14</td>\n",
              "      <td>NaN</td>\n",
              "      <td>1.0</td>\n",
              "      <td>0.0</td>\n",
              "      <td>0.0</td>\n",
              "      <td>0.0</td>\n",
              "      <td>1.0</td>\n",
              "    </tr>\n",
              "    <tr>\n",
              "      <th>3</th>\n",
              "      <td>12</td>\n",
              "      <td>213</td>\n",
              "      <td>0</td>\n",
              "      <td>0</td>\n",
              "      <td>6.64</td>\n",
              "      <td>10</td>\n",
              "      <td>NaN</td>\n",
              "      <td>0.0</td>\n",
              "      <td>0.0</td>\n",
              "      <td>0.0</td>\n",
              "      <td>0.0</td>\n",
              "      <td>1.0</td>\n",
              "    </tr>\n",
              "    <tr>\n",
              "      <th>4</th>\n",
              "      <td>13</td>\n",
              "      <td>222</td>\n",
              "      <td>0</td>\n",
              "      <td>0</td>\n",
              "      <td>5.53</td>\n",
              "      <td>14</td>\n",
              "      <td>NaN</td>\n",
              "      <td>0.0</td>\n",
              "      <td>0.0</td>\n",
              "      <td>0.0</td>\n",
              "      <td>0.0</td>\n",
              "      <td>1.0</td>\n",
              "    </tr>\n",
              "    <tr>\n",
              "      <th>...</th>\n",
              "      <td>...</td>\n",
              "      <td>...</td>\n",
              "      <td>...</td>\n",
              "      <td>...</td>\n",
              "      <td>...</td>\n",
              "      <td>...</td>\n",
              "      <td>...</td>\n",
              "      <td>...</td>\n",
              "      <td>...</td>\n",
              "      <td>...</td>\n",
              "      <td>...</td>\n",
              "      <td>...</td>\n",
              "    </tr>\n",
              "    <tr>\n",
              "      <th>48431</th>\n",
              "      <td>57595</td>\n",
              "      <td>1348942</td>\n",
              "      <td>1</td>\n",
              "      <td>0</td>\n",
              "      <td>1.91</td>\n",
              "      <td>37</td>\n",
              "      <td>NaN</td>\n",
              "      <td>0.0</td>\n",
              "      <td>65.3</td>\n",
              "      <td>5.6</td>\n",
              "      <td>0.0</td>\n",
              "      <td>1.0</td>\n",
              "    </tr>\n",
              "    <tr>\n",
              "      <th>48432</th>\n",
              "      <td>57596</td>\n",
              "      <td>1348955</td>\n",
              "      <td>1</td>\n",
              "      <td>0</td>\n",
              "      <td>1.22</td>\n",
              "      <td>13</td>\n",
              "      <td>0.31</td>\n",
              "      <td>0.0</td>\n",
              "      <td>8.9</td>\n",
              "      <td>0.7</td>\n",
              "      <td>0.0</td>\n",
              "      <td>0.0</td>\n",
              "    </tr>\n",
              "    <tr>\n",
              "      <th>48433</th>\n",
              "      <td>57597</td>\n",
              "      <td>1348998</td>\n",
              "      <td>1</td>\n",
              "      <td>0</td>\n",
              "      <td>1.22</td>\n",
              "      <td>14</td>\n",
              "      <td>0.75</td>\n",
              "      <td>0.0</td>\n",
              "      <td>36.6</td>\n",
              "      <td>2.4</td>\n",
              "      <td>0.0</td>\n",
              "      <td>0.0</td>\n",
              "    </tr>\n",
              "    <tr>\n",
              "      <th>48434</th>\n",
              "      <td>57598</td>\n",
              "      <td>1349014</td>\n",
              "      <td>1</td>\n",
              "      <td>0</td>\n",
              "      <td>1.22</td>\n",
              "      <td>14</td>\n",
              "      <td>0.75</td>\n",
              "      <td>0.0</td>\n",
              "      <td>114.2</td>\n",
              "      <td>7.4</td>\n",
              "      <td>0.0</td>\n",
              "      <td>0.0</td>\n",
              "    </tr>\n",
              "    <tr>\n",
              "      <th>48435</th>\n",
              "      <td>57600</td>\n",
              "      <td>1349055</td>\n",
              "      <td>1</td>\n",
              "      <td>0</td>\n",
              "      <td>1.22</td>\n",
              "      <td>12</td>\n",
              "      <td>0.99</td>\n",
              "      <td>0.0</td>\n",
              "      <td>105.1</td>\n",
              "      <td>8.9</td>\n",
              "      <td>0.0</td>\n",
              "      <td>0.0</td>\n",
              "    </tr>\n",
              "  </tbody>\n",
              "</table>\n",
              "<p>48436 rows × 12 columns</p>\n",
              "</div>\n",
              "      <button class=\"colab-df-convert\" onclick=\"convertToInteractive('df-cbe075fd-a37f-4a6c-9135-2d41cba6eb6b')\"\n",
              "              title=\"Convert this dataframe to an interactive table.\"\n",
              "              style=\"display:none;\">\n",
              "        \n",
              "  <svg xmlns=\"http://www.w3.org/2000/svg\" height=\"24px\"viewBox=\"0 0 24 24\"\n",
              "       width=\"24px\">\n",
              "    <path d=\"M0 0h24v24H0V0z\" fill=\"none\"/>\n",
              "    <path d=\"M18.56 5.44l.94 2.06.94-2.06 2.06-.94-2.06-.94-.94-2.06-.94 2.06-2.06.94zm-11 1L8.5 8.5l.94-2.06 2.06-.94-2.06-.94L8.5 2.5l-.94 2.06-2.06.94zm10 10l.94 2.06.94-2.06 2.06-.94-2.06-.94-.94-2.06-.94 2.06-2.06.94z\"/><path d=\"M17.41 7.96l-1.37-1.37c-.4-.4-.92-.59-1.43-.59-.52 0-1.04.2-1.43.59L10.3 9.45l-7.72 7.72c-.78.78-.78 2.05 0 2.83L4 21.41c.39.39.9.59 1.41.59.51 0 1.02-.2 1.41-.59l7.78-7.78 2.81-2.81c.8-.78.8-2.07 0-2.86zM5.41 20L4 18.59l7.72-7.72 1.47 1.35L5.41 20z\"/>\n",
              "  </svg>\n",
              "      </button>\n",
              "      \n",
              "  <style>\n",
              "    .colab-df-container {\n",
              "      display:flex;\n",
              "      flex-wrap:wrap;\n",
              "      gap: 12px;\n",
              "    }\n",
              "\n",
              "    .colab-df-convert {\n",
              "      background-color: #E8F0FE;\n",
              "      border: none;\n",
              "      border-radius: 50%;\n",
              "      cursor: pointer;\n",
              "      display: none;\n",
              "      fill: #1967D2;\n",
              "      height: 32px;\n",
              "      padding: 0 0 0 0;\n",
              "      width: 32px;\n",
              "    }\n",
              "\n",
              "    .colab-df-convert:hover {\n",
              "      background-color: #E2EBFA;\n",
              "      box-shadow: 0px 1px 2px rgba(60, 64, 67, 0.3), 0px 1px 3px 1px rgba(60, 64, 67, 0.15);\n",
              "      fill: #174EA6;\n",
              "    }\n",
              "\n",
              "    [theme=dark] .colab-df-convert {\n",
              "      background-color: #3B4455;\n",
              "      fill: #D2E3FC;\n",
              "    }\n",
              "\n",
              "    [theme=dark] .colab-df-convert:hover {\n",
              "      background-color: #434B5C;\n",
              "      box-shadow: 0px 1px 3px 1px rgba(0, 0, 0, 0.15);\n",
              "      filter: drop-shadow(0px 1px 2px rgba(0, 0, 0, 0.3));\n",
              "      fill: #FFFFFF;\n",
              "    }\n",
              "  </style>\n",
              "\n",
              "      <script>\n",
              "        const buttonEl =\n",
              "          document.querySelector('#df-cbe075fd-a37f-4a6c-9135-2d41cba6eb6b button.colab-df-convert');\n",
              "        buttonEl.style.display =\n",
              "          google.colab.kernel.accessAllowed ? 'block' : 'none';\n",
              "\n",
              "        async function convertToInteractive(key) {\n",
              "          const element = document.querySelector('#df-cbe075fd-a37f-4a6c-9135-2d41cba6eb6b');\n",
              "          const dataTable =\n",
              "            await google.colab.kernel.invokeFunction('convertToInteractive',\n",
              "                                                     [key], {});\n",
              "          if (!dataTable) return;\n",
              "\n",
              "          const docLinkHtml = 'Like what you see? Visit the ' +\n",
              "            '<a target=\"_blank\" href=https://colab.research.google.com/notebooks/data_table.ipynb>data table notebook</a>'\n",
              "            + ' to learn more about interactive tables.';\n",
              "          element.innerHTML = '';\n",
              "          dataTable['output_type'] = 'display_data';\n",
              "          await google.colab.output.renderOutput(dataTable, element);\n",
              "          const docLink = document.createElement('div');\n",
              "          docLink.innerHTML = docLinkHtml;\n",
              "          element.appendChild(docLink);\n",
              "        }\n",
              "      </script>\n",
              "    </div>\n",
              "  </div>\n",
              "  "
            ]
          },
          "metadata": {},
          "execution_count": 14
        }
      ]
    },
    {
      "cell_type": "code",
      "source": [
        "del df['index']\n",
        "df"
      ],
      "metadata": {
        "colab": {
          "base_uri": "https://localhost:8080/",
          "height": 488
        },
        "id": "dH4Fk7KAru93",
        "outputId": "217a912b-bad3-4a0c-9b94-46da4ecfdf6e"
      },
      "execution_count": 15,
      "outputs": [
        {
          "output_type": "execute_result",
          "data": {
            "text/plain": [
              "            id  tv_subscriber  movie_subscriber  subscription_age  bill_avg  \\\n",
              "0           27              0                 0              6.87        21   \n",
              "1           34              0                 0              6.39         0   \n",
              "2           84              0                 0              5.48        14   \n",
              "3          213              0                 0              6.64        10   \n",
              "4          222              0                 0              5.53        14   \n",
              "...        ...            ...               ...               ...       ...   \n",
              "48431  1348942              1                 0              1.91        37   \n",
              "48432  1348955              1                 0              1.22        13   \n",
              "48433  1348998              1                 0              1.22        14   \n",
              "48434  1349014              1                 0              1.22        14   \n",
              "48435  1349055              1                 0              1.22        12   \n",
              "\n",
              "       remaining_contract  service_failure_count  download_avg  upload_avg  \\\n",
              "0                     NaN                    1.0           0.0         0.0   \n",
              "1                     NaN                    0.0           0.0         0.0   \n",
              "2                     NaN                    1.0           0.0         0.0   \n",
              "3                     NaN                    0.0           0.0         0.0   \n",
              "4                     NaN                    0.0           0.0         0.0   \n",
              "...                   ...                    ...           ...         ...   \n",
              "48431                 NaN                    0.0          65.3         5.6   \n",
              "48432                0.31                    0.0           8.9         0.7   \n",
              "48433                0.75                    0.0          36.6         2.4   \n",
              "48434                0.75                    0.0         114.2         7.4   \n",
              "48435                0.99                    0.0         105.1         8.9   \n",
              "\n",
              "       download_over_limit  churn  \n",
              "0                      0.0    1.0  \n",
              "1                      0.0    1.0  \n",
              "2                      0.0    1.0  \n",
              "3                      0.0    1.0  \n",
              "4                      0.0    1.0  \n",
              "...                    ...    ...  \n",
              "48431                  0.0    1.0  \n",
              "48432                  0.0    0.0  \n",
              "48433                  0.0    0.0  \n",
              "48434                  0.0    0.0  \n",
              "48435                  0.0    0.0  \n",
              "\n",
              "[48436 rows x 11 columns]"
            ],
            "text/html": [
              "\n",
              "  <div id=\"df-037f24ed-e6fe-41c1-8313-60e1e55ca247\">\n",
              "    <div class=\"colab-df-container\">\n",
              "      <div>\n",
              "<style scoped>\n",
              "    .dataframe tbody tr th:only-of-type {\n",
              "        vertical-align: middle;\n",
              "    }\n",
              "\n",
              "    .dataframe tbody tr th {\n",
              "        vertical-align: top;\n",
              "    }\n",
              "\n",
              "    .dataframe thead th {\n",
              "        text-align: right;\n",
              "    }\n",
              "</style>\n",
              "<table border=\"1\" class=\"dataframe\">\n",
              "  <thead>\n",
              "    <tr style=\"text-align: right;\">\n",
              "      <th></th>\n",
              "      <th>id</th>\n",
              "      <th>tv_subscriber</th>\n",
              "      <th>movie_subscriber</th>\n",
              "      <th>subscription_age</th>\n",
              "      <th>bill_avg</th>\n",
              "      <th>remaining_contract</th>\n",
              "      <th>service_failure_count</th>\n",
              "      <th>download_avg</th>\n",
              "      <th>upload_avg</th>\n",
              "      <th>download_over_limit</th>\n",
              "      <th>churn</th>\n",
              "    </tr>\n",
              "  </thead>\n",
              "  <tbody>\n",
              "    <tr>\n",
              "      <th>0</th>\n",
              "      <td>27</td>\n",
              "      <td>0</td>\n",
              "      <td>0</td>\n",
              "      <td>6.87</td>\n",
              "      <td>21</td>\n",
              "      <td>NaN</td>\n",
              "      <td>1.0</td>\n",
              "      <td>0.0</td>\n",
              "      <td>0.0</td>\n",
              "      <td>0.0</td>\n",
              "      <td>1.0</td>\n",
              "    </tr>\n",
              "    <tr>\n",
              "      <th>1</th>\n",
              "      <td>34</td>\n",
              "      <td>0</td>\n",
              "      <td>0</td>\n",
              "      <td>6.39</td>\n",
              "      <td>0</td>\n",
              "      <td>NaN</td>\n",
              "      <td>0.0</td>\n",
              "      <td>0.0</td>\n",
              "      <td>0.0</td>\n",
              "      <td>0.0</td>\n",
              "      <td>1.0</td>\n",
              "    </tr>\n",
              "    <tr>\n",
              "      <th>2</th>\n",
              "      <td>84</td>\n",
              "      <td>0</td>\n",
              "      <td>0</td>\n",
              "      <td>5.48</td>\n",
              "      <td>14</td>\n",
              "      <td>NaN</td>\n",
              "      <td>1.0</td>\n",
              "      <td>0.0</td>\n",
              "      <td>0.0</td>\n",
              "      <td>0.0</td>\n",
              "      <td>1.0</td>\n",
              "    </tr>\n",
              "    <tr>\n",
              "      <th>3</th>\n",
              "      <td>213</td>\n",
              "      <td>0</td>\n",
              "      <td>0</td>\n",
              "      <td>6.64</td>\n",
              "      <td>10</td>\n",
              "      <td>NaN</td>\n",
              "      <td>0.0</td>\n",
              "      <td>0.0</td>\n",
              "      <td>0.0</td>\n",
              "      <td>0.0</td>\n",
              "      <td>1.0</td>\n",
              "    </tr>\n",
              "    <tr>\n",
              "      <th>4</th>\n",
              "      <td>222</td>\n",
              "      <td>0</td>\n",
              "      <td>0</td>\n",
              "      <td>5.53</td>\n",
              "      <td>14</td>\n",
              "      <td>NaN</td>\n",
              "      <td>0.0</td>\n",
              "      <td>0.0</td>\n",
              "      <td>0.0</td>\n",
              "      <td>0.0</td>\n",
              "      <td>1.0</td>\n",
              "    </tr>\n",
              "    <tr>\n",
              "      <th>...</th>\n",
              "      <td>...</td>\n",
              "      <td>...</td>\n",
              "      <td>...</td>\n",
              "      <td>...</td>\n",
              "      <td>...</td>\n",
              "      <td>...</td>\n",
              "      <td>...</td>\n",
              "      <td>...</td>\n",
              "      <td>...</td>\n",
              "      <td>...</td>\n",
              "      <td>...</td>\n",
              "    </tr>\n",
              "    <tr>\n",
              "      <th>48431</th>\n",
              "      <td>1348942</td>\n",
              "      <td>1</td>\n",
              "      <td>0</td>\n",
              "      <td>1.91</td>\n",
              "      <td>37</td>\n",
              "      <td>NaN</td>\n",
              "      <td>0.0</td>\n",
              "      <td>65.3</td>\n",
              "      <td>5.6</td>\n",
              "      <td>0.0</td>\n",
              "      <td>1.0</td>\n",
              "    </tr>\n",
              "    <tr>\n",
              "      <th>48432</th>\n",
              "      <td>1348955</td>\n",
              "      <td>1</td>\n",
              "      <td>0</td>\n",
              "      <td>1.22</td>\n",
              "      <td>13</td>\n",
              "      <td>0.31</td>\n",
              "      <td>0.0</td>\n",
              "      <td>8.9</td>\n",
              "      <td>0.7</td>\n",
              "      <td>0.0</td>\n",
              "      <td>0.0</td>\n",
              "    </tr>\n",
              "    <tr>\n",
              "      <th>48433</th>\n",
              "      <td>1348998</td>\n",
              "      <td>1</td>\n",
              "      <td>0</td>\n",
              "      <td>1.22</td>\n",
              "      <td>14</td>\n",
              "      <td>0.75</td>\n",
              "      <td>0.0</td>\n",
              "      <td>36.6</td>\n",
              "      <td>2.4</td>\n",
              "      <td>0.0</td>\n",
              "      <td>0.0</td>\n",
              "    </tr>\n",
              "    <tr>\n",
              "      <th>48434</th>\n",
              "      <td>1349014</td>\n",
              "      <td>1</td>\n",
              "      <td>0</td>\n",
              "      <td>1.22</td>\n",
              "      <td>14</td>\n",
              "      <td>0.75</td>\n",
              "      <td>0.0</td>\n",
              "      <td>114.2</td>\n",
              "      <td>7.4</td>\n",
              "      <td>0.0</td>\n",
              "      <td>0.0</td>\n",
              "    </tr>\n",
              "    <tr>\n",
              "      <th>48435</th>\n",
              "      <td>1349055</td>\n",
              "      <td>1</td>\n",
              "      <td>0</td>\n",
              "      <td>1.22</td>\n",
              "      <td>12</td>\n",
              "      <td>0.99</td>\n",
              "      <td>0.0</td>\n",
              "      <td>105.1</td>\n",
              "      <td>8.9</td>\n",
              "      <td>0.0</td>\n",
              "      <td>0.0</td>\n",
              "    </tr>\n",
              "  </tbody>\n",
              "</table>\n",
              "<p>48436 rows × 11 columns</p>\n",
              "</div>\n",
              "      <button class=\"colab-df-convert\" onclick=\"convertToInteractive('df-037f24ed-e6fe-41c1-8313-60e1e55ca247')\"\n",
              "              title=\"Convert this dataframe to an interactive table.\"\n",
              "              style=\"display:none;\">\n",
              "        \n",
              "  <svg xmlns=\"http://www.w3.org/2000/svg\" height=\"24px\"viewBox=\"0 0 24 24\"\n",
              "       width=\"24px\">\n",
              "    <path d=\"M0 0h24v24H0V0z\" fill=\"none\"/>\n",
              "    <path d=\"M18.56 5.44l.94 2.06.94-2.06 2.06-.94-2.06-.94-.94-2.06-.94 2.06-2.06.94zm-11 1L8.5 8.5l.94-2.06 2.06-.94-2.06-.94L8.5 2.5l-.94 2.06-2.06.94zm10 10l.94 2.06.94-2.06 2.06-.94-2.06-.94-.94-2.06-.94 2.06-2.06.94z\"/><path d=\"M17.41 7.96l-1.37-1.37c-.4-.4-.92-.59-1.43-.59-.52 0-1.04.2-1.43.59L10.3 9.45l-7.72 7.72c-.78.78-.78 2.05 0 2.83L4 21.41c.39.39.9.59 1.41.59.51 0 1.02-.2 1.41-.59l7.78-7.78 2.81-2.81c.8-.78.8-2.07 0-2.86zM5.41 20L4 18.59l7.72-7.72 1.47 1.35L5.41 20z\"/>\n",
              "  </svg>\n",
              "      </button>\n",
              "      \n",
              "  <style>\n",
              "    .colab-df-container {\n",
              "      display:flex;\n",
              "      flex-wrap:wrap;\n",
              "      gap: 12px;\n",
              "    }\n",
              "\n",
              "    .colab-df-convert {\n",
              "      background-color: #E8F0FE;\n",
              "      border: none;\n",
              "      border-radius: 50%;\n",
              "      cursor: pointer;\n",
              "      display: none;\n",
              "      fill: #1967D2;\n",
              "      height: 32px;\n",
              "      padding: 0 0 0 0;\n",
              "      width: 32px;\n",
              "    }\n",
              "\n",
              "    .colab-df-convert:hover {\n",
              "      background-color: #E2EBFA;\n",
              "      box-shadow: 0px 1px 2px rgba(60, 64, 67, 0.3), 0px 1px 3px 1px rgba(60, 64, 67, 0.15);\n",
              "      fill: #174EA6;\n",
              "    }\n",
              "\n",
              "    [theme=dark] .colab-df-convert {\n",
              "      background-color: #3B4455;\n",
              "      fill: #D2E3FC;\n",
              "    }\n",
              "\n",
              "    [theme=dark] .colab-df-convert:hover {\n",
              "      background-color: #434B5C;\n",
              "      box-shadow: 0px 1px 3px 1px rgba(0, 0, 0, 0.15);\n",
              "      filter: drop-shadow(0px 1px 2px rgba(0, 0, 0, 0.3));\n",
              "      fill: #FFFFFF;\n",
              "    }\n",
              "  </style>\n",
              "\n",
              "      <script>\n",
              "        const buttonEl =\n",
              "          document.querySelector('#df-037f24ed-e6fe-41c1-8313-60e1e55ca247 button.colab-df-convert');\n",
              "        buttonEl.style.display =\n",
              "          google.colab.kernel.accessAllowed ? 'block' : 'none';\n",
              "\n",
              "        async function convertToInteractive(key) {\n",
              "          const element = document.querySelector('#df-037f24ed-e6fe-41c1-8313-60e1e55ca247');\n",
              "          const dataTable =\n",
              "            await google.colab.kernel.invokeFunction('convertToInteractive',\n",
              "                                                     [key], {});\n",
              "          if (!dataTable) return;\n",
              "\n",
              "          const docLinkHtml = 'Like what you see? Visit the ' +\n",
              "            '<a target=\"_blank\" href=https://colab.research.google.com/notebooks/data_table.ipynb>data table notebook</a>'\n",
              "            + ' to learn more about interactive tables.';\n",
              "          element.innerHTML = '';\n",
              "          dataTable['output_type'] = 'display_data';\n",
              "          await google.colab.output.renderOutput(dataTable, element);\n",
              "          const docLink = document.createElement('div');\n",
              "          docLink.innerHTML = docLinkHtml;\n",
              "          element.appendChild(docLink);\n",
              "        }\n",
              "      </script>\n",
              "    </div>\n",
              "  </div>\n",
              "  "
            ]
          },
          "metadata": {},
          "execution_count": 15
        }
      ]
    },
    {
      "cell_type": "code",
      "source": [
        "df.index.name = 'User'"
      ],
      "metadata": {
        "id": "MWhoSvBnsWJd"
      },
      "execution_count": 17,
      "outputs": []
    },
    {
      "cell_type": "code",
      "source": [
        "x = len(df[df['churn']== 1])\n",
        "y = len(df[df['churn']== 0])\n",
        "print(x)\n",
        "print(y)"
      ],
      "metadata": {
        "colab": {
          "base_uri": "https://localhost:8080/"
        },
        "id": "gxXddmYYsdtM",
        "outputId": "f1aa9a84-0779-465c-8139-287d7447ebbf"
      },
      "execution_count": 18,
      "outputs": [
        {
          "output_type": "stream",
          "name": "stdout",
          "text": [
            "33286\n",
            "15150\n"
          ]
        }
      ]
    },
    {
      "cell_type": "code",
      "source": [
        "data = [x, y]\n",
        "label = ['Churned', 'Notchurned']\n",
        " \n",
        "plt.pie(data, labels=label, autopct='%1.1f%%', shadow=False, colors=['cyan', 'yellow'], radius=3, startangle=90)\n",
        "plt.title('Internet Service Churned/Not Churned by Percentage')\n",
        "plt.axis('equal')\n",
        "plt.show()"
      ],
      "metadata": {
        "colab": {
          "base_uri": "https://localhost:8080/",
          "height": 264
        },
        "id": "BglbPS7CstGE",
        "outputId": "f010a062-9440-445e-8a04-a36e36d4181d"
      },
      "execution_count": 19,
      "outputs": [
        {
          "output_type": "display_data",
          "data": {
            "text/plain": [
              "<Figure size 432x288 with 1 Axes>"
            ],
            "image/png": "[encoded data removed]"
          },
          "metadata": {}
        }
      ]
    },
    {
      "cell_type": "code",
      "source": [
        "tv_subscriber_churned  = len(df[(df['tv_subscriber'] == 1) & (df['churn'] == 1)])\n",
        "tv_subscriber_churned"
      ],
      "metadata": {
        "colab": {
          "base_uri": "https://localhost:8080/"
        },
        "id": "0u_Tye3TtFhs",
        "outputId": "92a036ab-a0c2-4acd-834b-bcf72807ddca"
      },
      "execution_count": 20,
      "outputs": [
        {
          "output_type": "execute_result",
          "data": {
            "text/plain": [
              "22785"
            ]
          },
          "metadata": {},
          "execution_count": 20
        }
      ]
    },
    {
      "cell_type": "code",
      "source": [
        "tv_subscriber_not_churned  = len(df[(df['tv_subscriber'] == 1) & (df['churn'] == 0)])\n",
        "tv_subscriber_not_churned"
      ],
      "metadata": {
        "colab": {
          "base_uri": "https://localhost:8080/"
        },
        "id": "JiJTLIuHtU4t",
        "outputId": "f5410a80-f0e3-43cd-f4c7-13f004084259"
      },
      "execution_count": 21,
      "outputs": [
        {
          "output_type": "execute_result",
          "data": {
            "text/plain": [
              "14774"
            ]
          },
          "metadata": {},
          "execution_count": 21
        }
      ]
    },
    {
      "cell_type": "code",
      "source": [
        "not_tv_subscriber_churned  = len(df[(df['tv_subscriber'] == 0) & (df['churn'] == 1)])\n",
        "not_tv_subscriber_churned"
      ],
      "metadata": {
        "colab": {
          "base_uri": "https://localhost:8080/"
        },
        "id": "yDlc6gOztX1T",
        "outputId": "3b215c6d-fd29-48e4-b5da-a833b11c5e20"
      },
      "execution_count": 22,
      "outputs": [
        {
          "output_type": "execute_result",
          "data": {
            "text/plain": [
              "10501"
            ]
          },
          "metadata": {},
          "execution_count": 22
        }
      ]
    },
    {
      "cell_type": "code",
      "source": [
        "not_tv_subscriber_not_churned  = len(df[(df['tv_subscriber'] == 0) & (df['churn'] == 0)])\n",
        "not_tv_subscriber_not_churned"
      ],
      "metadata": {
        "colab": {
          "base_uri": "https://localhost:8080/"
        },
        "id": "PBVkjm1Btb1r",
        "outputId": "7966c793-7dd9-4774-dfe1-7e63755e241b"
      },
      "execution_count": 23,
      "outputs": [
        {
          "output_type": "execute_result",
          "data": {
            "text/plain": [
              "376"
            ]
          },
          "metadata": {},
          "execution_count": 23
        }
      ]
    },
    {
      "cell_type": "code",
      "source": [
        "labels = ['Subscriber', 'Not Subscriber']\n",
        "churn = [23721, 10369]\n",
        "no_churn = [20457, 725 ]\n",
        "\n",
        "x = np.arange(len(labels))  # the label locations\n",
        "width = 0.35  # the width of the bars\n",
        "plt.figure(figsize=(8,5))\n",
        "plt.bar(x - width/2, churn, width, label='churned', color='red')\n",
        "plt.bar(x + width/2, no_churn, width, label='not_churned', color='blue')\n",
        "plt.xticks(x, labels)\n",
        "plt.title('TV Subscriber/Not subscriber - Churned Vs Not Churned ')\n",
        "plt.legend()\n",
        "plt.show()"
      ],
      "metadata": {
        "colab": {
          "base_uri": "https://localhost:8080/",
          "height": 336
        },
        "id": "jXqvkjWVtfrJ",
        "outputId": "85663922-2697-408a-e58f-71b741bb173b"
      },
      "execution_count": 24,
      "outputs": [
        {
          "output_type": "display_data",
          "data": {
            "text/plain": [
              "<Figure size 576x360 with 1 Axes>"
            ],
            "image/png": "[encoded data removed]"
          },
          "metadata": {
            "needs_background": "light"
          }
        }
      ]
    },
    {
      "cell_type": "code",
      "source": [
        "movie_subscriber_churned  = len(df[(df['movie_subscriber'] == 1) & (df['churn'] == 1)])\n",
        "movie_subscriber_churned"
      ],
      "metadata": {
        "colab": {
          "base_uri": "https://localhost:8080/"
        },
        "id": "UB5Mp6qVtj9r",
        "outputId": "66e45f7b-c679-429d-8b05-e911f28fda41"
      },
      "execution_count": 25,
      "outputs": [
        {
          "output_type": "execute_result",
          "data": {
            "text/plain": [
              "5976"
            ]
          },
          "metadata": {},
          "execution_count": 25
        }
      ]
    },
    {
      "cell_type": "code",
      "source": [
        "movie_subscriber_not_churned  = len(df[(df['movie_subscriber'] == 1) & (df['churn'] == 0)])\n",
        "movie_subscriber_not_churned"
      ],
      "metadata": {
        "colab": {
          "base_uri": "https://localhost:8080/"
        },
        "id": "KFl8KWisttwm",
        "outputId": "c5a98070-a5dd-4fcd-c924-0bed5a45a676"
      },
      "execution_count": 26,
      "outputs": [
        {
          "output_type": "execute_result",
          "data": {
            "text/plain": [
              "7526"
            ]
          },
          "metadata": {},
          "execution_count": 26
        }
      ]
    },
    {
      "cell_type": "code",
      "source": [
        "not_movie_subscriber_churned  = len(df[(df['movie_subscriber'] == 0) & (df['churn'] == 1)])\n",
        "not_movie_subscriber_churned"
      ],
      "metadata": {
        "colab": {
          "base_uri": "https://localhost:8080/"
        },
        "id": "Zu9l--qYtxUr",
        "outputId": "cd39cd86-f140-45c0-8c5d-6a0dbfa39619"
      },
      "execution_count": 27,
      "outputs": [
        {
          "output_type": "execute_result",
          "data": {
            "text/plain": [
              "27310"
            ]
          },
          "metadata": {},
          "execution_count": 27
        }
      ]
    },
    {
      "cell_type": "code",
      "source": [
        "not_movie_subscriber_not_churned  = len(df[(df['movie_subscriber'] == 0) & (df['churn'] == 0)])\n",
        "not_movie_subscriber_not_churned"
      ],
      "metadata": {
        "colab": {
          "base_uri": "https://localhost:8080/"
        },
        "id": "iMgTPL5mt2Ag",
        "outputId": "016afeeb-5836-4379-857a-44c82a0bd254"
      },
      "execution_count": 28,
      "outputs": [
        {
          "output_type": "execute_result",
          "data": {
            "text/plain": [
              "7624"
            ]
          },
          "metadata": {},
          "execution_count": 28
        }
      ]
    },
    {
      "cell_type": "code",
      "source": [
        "labels = ['Subscriber', 'Not Subscriber']\n",
        "churn = [6518, 27572]\n",
        "no_churn = [9783, 11399 ]\n",
        "c1 = ['red']\n",
        "c2=['blue'] \n",
        "\n",
        "x = np.arange(len(labels))  # the label locations\n",
        "width = 0.35  # the width of the bars\n",
        "plt.figure(figsize=(8,5))\n",
        "plt.bar(x - width/2, churn, width, label='churned', color=c1)\n",
        "plt.bar(x + width/2, no_churn, width, label='not_churned', color=c2)\n",
        "plt.xticks(x, labels)\n",
        "plt.title('Movie Subscriber/Not subscriber - Churned Vs Not Churned ')\n",
        "plt.legend()\n",
        "plt.show()"
      ],
      "metadata": {
        "colab": {
          "base_uri": "https://localhost:8080/",
          "height": 336
        },
        "id": "W7kQx194t6Nu",
        "outputId": "092c7edf-6b47-4880-d2e5-adaa7143d1ea"
      },
      "execution_count": 29,
      "outputs": [
        {
          "output_type": "display_data",
          "data": {
            "text/plain": [
              "<Figure size 576x360 with 1 Axes>"
            ],
            "image/png": "[encoded data removed]"
          },
          "metadata": {
            "needs_background": "light"
          }
        }
      ]
    },
    {
      "cell_type": "code",
      "source": [
        "x = df.groupby(['tv_subscriber', 'movie_subscriber'])['churn'].value_counts()\n",
        "x"
      ],
      "metadata": {
        "colab": {
          "base_uri": "https://localhost:8080/"
        },
        "id": "QzWlmqBMt-9B",
        "outputId": "f0088e7a-01b0-4276-e582-1972db5b2180"
      },
      "execution_count": 30,
      "outputs": [
        {
          "output_type": "execute_result",
          "data": {
            "text/plain": [
              "tv_subscriber  movie_subscriber  churn\n",
              "0              0                 1.0      10499\n",
              "                                 0.0        376\n",
              "               1                 1.0          2\n",
              "1              0                 1.0      16811\n",
              "                                 0.0       7248\n",
              "               1                 0.0       7526\n",
              "                                 1.0       5974\n",
              "Name: churn, dtype: int64"
            ]
          },
          "metadata": {},
          "execution_count": 30
        }
      ]
    },
    {
      "cell_type": "code",
      "source": [
        "plt.figure(figsize=(12,6))\n",
        "x.plot(kind='bar', color = 'red', title=\"User by TV subscriber/Movie Subscriber/Churn\").legend(bbox_to_anchor= (1.02, 1))"
      ],
      "metadata": {
        "colab": {
          "base_uri": "https://localhost:8080/",
          "height": 461
        },
        "id": "S9W0ZxBWuFEj",
        "outputId": "400e45b5-2ac0-494b-91da-f9e3a6b7edb2"
      },
      "execution_count": 31,
      "outputs": [
        {
          "output_type": "execute_result",
          "data": {
            "text/plain": [
              "<matplotlib.legend.Legend at 0x7ff1b8cac350>"
            ]
          },
          "metadata": {},
          "execution_count": 31
        },
        {
          "output_type": "display_data",
          "data": {
            "text/plain": [
              "<Figure size 864x432 with 1 Axes>"
            ],
            "image/png": "[encoded data removed]"
          },
          "metadata": {
            "needs_background": "light"
          }
        }
      ]
    },
    {
      "cell_type": "code",
      "source": [
        "my_colors = [\"grey\",\"brown\"]\n",
        "sns.set_palette( my_colors )\n",
        "sns.boxplot(x=\"churn\",y=\"subscription_age\", data= df)\n",
        "sns.set(rc={\"figure.figsize\":(7, 7)})\n",
        "plt.title('Subscription Age in yrs.')\n",
        "plt.show()"
      ],
      "metadata": {
        "colab": {
          "base_uri": "https://localhost:8080/",
          "height": 295
        },
        "id": "KS-6ND5ruJmh",
        "outputId": "a806521d-864d-45c0-a78a-f91fac81600f"
      },
      "execution_count": 32,
      "outputs": [
        {
          "output_type": "display_data",
          "data": {
            "text/plain": [
              "<Figure size 432x288 with 1 Axes>"
            ],
            "image/png": "[encoded data removed]"
          },
          "metadata": {
            "needs_background": "light"
          }
        }
      ]
    },
    {
      "cell_type": "markdown",
      "source": [
        "Here we can see that the customers who has subscription age lies between 1 to 3 years churned more & there are exceptions with customers having high subscription age causing churn. Mostly, customers churned before 3 yrs of substrition age.\n",
        "\n",
        "Hence, subscription age is an imp criteria for a customer to churn"
      ],
      "metadata": {
        "id": "I3q-QSWAuYsx"
      }
    },
    {
      "cell_type": "code",
      "source": [
        "df[df['churn']==0]['subscription_age'].hist(bins=7, color='grey')\n",
        "df[df['churn']==1]['subscription_age'].hist(bins=7,color='blue', alpha=0.3)\n",
        "plt.legend(['Not churned', 'Churned'])\n",
        "plt.title('Subscription Age in yrs.')\n",
        "plt.figure(figsize=(6,5))\n",
        "plt.show()"
      ],
      "metadata": {
        "colab": {
          "base_uri": "https://localhost:8080/",
          "height": 464
        },
        "id": "aEBWwS-AuPbr",
        "outputId": "21fa0978-59a9-4118-83e0-a66924b69239"
      },
      "execution_count": 33,
      "outputs": [
        {
          "output_type": "display_data",
          "data": {
            "text/plain": [
              "<Figure size 504x504 with 1 Axes>"
            ],
            "image/png": "[encoded data removed]"
          },
          "metadata": {}
        },
        {
          "output_type": "display_data",
          "data": {
            "text/plain": [
              "<Figure size 432x360 with 0 Axes>"
            ]
          },
          "metadata": {}
        }
      ]
    },
    {
      "cell_type": "markdown",
      "source": [
        "We can see that the most of the customers who has churned has subscription age lies between 1 to 3 years & there are some customers with higher subscription age who has churned"
      ],
      "metadata": {
        "id": "FOrAgkBeuX24"
      }
    },
    {
      "cell_type": "code",
      "source": [
        "no_contract_no_churned = len(df[(df['remaining_contract'].isnull()) & (df['churn'] == 0)])\n",
        "no_contract_no_churned"
      ],
      "metadata": {
        "colab": {
          "base_uri": "https://localhost:8080/"
        },
        "id": "IS848lCWunFE",
        "outputId": "3f343ac0-73a2-4c6f-c0c5-cf046d39e96d"
      },
      "execution_count": 34,
      "outputs": [
        {
          "output_type": "execute_result",
          "data": {
            "text/plain": [
              "1064"
            ]
          },
          "metadata": {},
          "execution_count": 34
        }
      ]
    },
    {
      "cell_type": "code",
      "source": [
        "no_contract_churned = len(df[(df['remaining_contract'].isnull()) & (df['churn'] == 1)])\n",
        "no_contract_churned"
      ],
      "metadata": {
        "colab": {
          "base_uri": "https://localhost:8080/"
        },
        "id": "81sswjPevaIj",
        "outputId": "d6f52502-ca68-42df-c2bf-7b4e7cd6003d"
      },
      "execution_count": 35,
      "outputs": [
        {
          "output_type": "execute_result",
          "data": {
            "text/plain": [
              "17383"
            ]
          },
          "metadata": {},
          "execution_count": 35
        }
      ]
    },
    {
      "cell_type": "code",
      "source": [
        "contract_over_churned  = len(df[(df['remaining_contract']==0) & (df['churn'] == 1)])\n",
        "contract_over_churned"
      ],
      "metadata": {
        "colab": {
          "base_uri": "https://localhost:8080/"
        },
        "id": "xtJbop8KvdL_",
        "outputId": "4f2fb20a-ebe6-456f-e81e-b861772adf19"
      },
      "execution_count": 36,
      "outputs": [
        {
          "output_type": "execute_result",
          "data": {
            "text/plain": [
              "13690"
            ]
          },
          "metadata": {},
          "execution_count": 36
        }
      ]
    },
    {
      "cell_type": "code",
      "source": [
        "contract_over_not_churned  = len(df[(df['remaining_contract'] == 0.0) & (df['churn'] == 0)])\n",
        "contract_over_not_churned"
      ],
      "metadata": {
        "colab": {
          "base_uri": "https://localhost:8080/"
        },
        "id": "apxlleaAvhHl",
        "outputId": "f09bc1e1-2db6-42a1-f8e5-91c98a3477b5"
      },
      "execution_count": 37,
      "outputs": [
        {
          "output_type": "execute_result",
          "data": {
            "text/plain": [
              "47"
            ]
          },
          "metadata": {},
          "execution_count": 37
        }
      ]
    },
    {
      "cell_type": "code",
      "source": [
        "contract_remain_not_churned = len(df[~(df['remaining_contract'].isnull()) & (df['remaining_contract'] != 0.0) & (df['churn'] == 0)])\n",
        "contract_remain_not_churned"
      ],
      "metadata": {
        "colab": {
          "base_uri": "https://localhost:8080/"
        },
        "id": "RYpus-oWvkLI",
        "outputId": "a081ed44-45bf-4c11-fcd1-a14eaf531538"
      },
      "execution_count": 38,
      "outputs": [
        {
          "output_type": "execute_result",
          "data": {
            "text/plain": [
              "14039"
            ]
          },
          "metadata": {},
          "execution_count": 38
        }
      ]
    },
    {
      "cell_type": "code",
      "source": [
        "contract_remain_churned = len(df[~(df['remaining_contract'].isnull()) & (df['remaining_contract'] != 0.0) & (df['churn'] == 1)])\n",
        "contract_remain_churned"
      ],
      "metadata": {
        "colab": {
          "base_uri": "https://localhost:8080/"
        },
        "id": "vqyp_CYIvoKd",
        "outputId": "341c6b63-3f15-4d4f-8c4a-41b8e6eb365d"
      },
      "execution_count": 39,
      "outputs": [
        {
          "output_type": "execute_result",
          "data": {
            "text/plain": [
              "2213"
            ]
          },
          "metadata": {},
          "execution_count": 39
        }
      ]
    },
    {
      "cell_type": "code",
      "source": [
        "c1 = ['red']\n",
        "c2=['grey'] "
      ],
      "metadata": {
        "id": "Lg1ngtUFvsSn"
      },
      "execution_count": 40,
      "outputs": []
    },
    {
      "cell_type": "code",
      "source": [
        "labels = ['No Contract','Contract remains', 'Contract over']\n",
        "churn = [17381, 3439, 14555]\n",
        "no_churn = [1131, 23376, 51]\n",
        "\n",
        "x = np.arange(len(labels))  # the label locations\n",
        "width = 0.35  # the width of the bars\n",
        "plt.figure(figsize=(8,5))\n",
        "plt.bar(x - width/2, churn, width, label='churned',color = c1)\n",
        "plt.bar(x + width/2, no_churn, width, label='not_churned',color = c2)\n",
        "plt.xticks(x, labels)\n",
        "plt.title('Remaining Service (in years)')\n",
        "plt.legend()\n",
        "plt.show()"
      ],
      "metadata": {
        "colab": {
          "base_uri": "https://localhost:8080/",
          "height": 338
        },
        "id": "0bkLKQhHv1QD",
        "outputId": "492d4dd4-f91c-41a8-cf92-7dd112ebc383"
      },
      "execution_count": 41,
      "outputs": [
        {
          "output_type": "display_data",
          "data": {
            "text/plain": [
              "<Figure size 576x360 with 1 Axes>"
            ],
            "image/png": "[encoded data removed]"
          },
          "metadata": {}
        }
      ]
    },
    {
      "cell_type": "markdown",
      "source": [
        "\n",
        "Here, we can see that the customers who doesn't have any contract are more likely to churn than the customers who have contracts there are very few customers who cancelled the subscription(or churned) before the contract got over and very less customers are there who doesn't churned after the contract got over, means customer retention is very less. So, remaining contract is imp factor for predicting a customer to churn"
      ],
      "metadata": {
        "id": "4HPZEK_mwYoh"
      }
    },
    {
      "cell_type": "code",
      "source": [
        "my_colors = [\"grey\",\"brown\"]\n",
        "sns.set_palette( my_colors )\n",
        "sns.boxplot(x=\"churn\",y=\"bill_avg\",data=df )\n",
        "sns.set(rc={\"figure.figsize\":(10, 7)})\n",
        "plt.title('Bill Avg in $ ( last 3 months)')\n",
        "plt.show() "
      ],
      "metadata": {
        "colab": {
          "base_uri": "https://localhost:8080/",
          "height": 464
        },
        "id": "oJ7wFzBVwRM0",
        "outputId": "cf02a977-0a97-416a-b032-6b50a03635c4"
      },
      "execution_count": 42,
      "outputs": [
        {
          "output_type": "display_data",
          "data": {
            "text/plain": [
              "<Figure size 504x504 with 1 Axes>"
            ],
            "image/png": "[encoded data removed]"
          },
          "metadata": {}
        }
      ]
    },
    {
      "cell_type": "markdown",
      "source": [
        "Here, we can see that the average bill lies between $0 to $30, it is seen that the customers with higher average bill are more likely to churn, however there are exception also where the customers with higher bill didn't churn"
      ],
      "metadata": {
        "id": "gyZ9KZuywuHc"
      }
    },
    {
      "cell_type": "code",
      "source": [
        "df[df['churn']==0]['bill_avg'].hist(bins=7, color='grey')\n",
        "df[df['churn']==1]['bill_avg'].hist(bins=7,color='blue', alpha=0.3)\n",
        "plt.legend(['Not churned', 'Churned'])\n",
        "plt.title('Bill Avg.in $ (last 3 months)')\n",
        "plt.figure(figsize=(6,5))\n",
        "plt.show()"
      ],
      "metadata": {
        "colab": {
          "base_uri": "https://localhost:8080/",
          "height": 464
        },
        "id": "2DqYI-owwvjZ",
        "outputId": "ea75ba6e-c2c5-4bb1-ee20-b06f95820712"
      },
      "execution_count": 43,
      "outputs": [
        {
          "output_type": "display_data",
          "data": {
            "text/plain": [
              "<Figure size 720x504 with 1 Axes>"
            ],
            "image/png": "[encoded data removed]"
          },
          "metadata": {}
        },
        {
          "output_type": "display_data",
          "data": {
            "text/plain": [
              "<Figure size 432x360 with 0 Axes>"
            ]
          },
          "metadata": {}
        }
      ]
    },
    {
      "cell_type": "code",
      "source": [
        "my_colors = [\"grey\",\"brown\"]\n",
        "sns.set_palette( my_colors )\n",
        "sns.boxplot(x=\"churn\",y=\"upload_avg\",data= df)\n",
        "sns.set(rc={\"figure.figsize\":(10, 7)})\n",
        "plt.title('Upload Avg. in GB (last 3 months)')\n",
        "plt.show()"
      ],
      "metadata": {
        "colab": {
          "base_uri": "https://localhost:8080/",
          "height": 464
        },
        "id": "KYRiKWBmwkpG",
        "outputId": "6caf4035-33ae-44a5-9571-d9788efbf85b"
      },
      "execution_count": 44,
      "outputs": [
        {
          "output_type": "display_data",
          "data": {
            "text/plain": [
              "<Figure size 720x504 with 1 Axes>"
            ],
            "image/png": "[encoded data removed]"
          },
          "metadata": {}
        }
      ]
    },
    {
      "cell_type": "code",
      "source": [
        "df[df['churn']==0]['upload_avg'].hist(bins=5, color='grey')\n",
        "df[df['churn']==1]['upload_avg'].hist(bins=5,color='blue', alpha=0.3)\n",
        "plt.legend(['Not Churned', 'Churned'])\n",
        "plt.title('Upload Avg. in GB (last 3 months)')\n",
        "plt.figure(figsize=(6,5))\n",
        "plt.show()"
      ],
      "metadata": {
        "colab": {
          "base_uri": "https://localhost:8080/",
          "height": 464
        },
        "id": "kIaQXKbkxsPw",
        "outputId": "2d03c861-3b7c-4151-9ab2-c4baee50eee7"
      },
      "execution_count": 45,
      "outputs": [
        {
          "output_type": "display_data",
          "data": {
            "text/plain": [
              "<Figure size 720x504 with 1 Axes>"
            ],
            "image/png": "[encoded data removed]"
          },
          "metadata": {}
        },
        {
          "output_type": "display_data",
          "data": {
            "text/plain": [
              "<Figure size 432x360 with 0 Axes>"
            ]
          },
          "metadata": {}
        }
      ]
    },
    {
      "cell_type": "code",
      "source": [
        "my_colors = [\"grey\",\"brown\"]\n",
        "sns.set_palette( my_colors )\n",
        "sns.boxplot(x=\"churn\",y=\"download_avg\",data= df)\n",
        "sns.set(rc={\"figure.figsize\":(10, 7)})\n",
        "plt.title('Download Avg. in GB (last 3 months)')\n",
        "plt.show()"
      ],
      "metadata": {
        "colab": {
          "base_uri": "https://localhost:8080/",
          "height": 464
        },
        "id": "hOKVQ2qsxxfI",
        "outputId": "af6c07d3-dd60-4696-edb8-80a161eea089"
      },
      "execution_count": 46,
      "outputs": [
        {
          "output_type": "display_data",
          "data": {
            "text/plain": [
              "<Figure size 720x504 with 1 Axes>"
            ],
            "image/png": "[encoded data removed]"
          },
          "metadata": {}
        }
      ]
    },
    {
      "cell_type": "markdown",
      "source": [
        "Here,as we can see that the customer with higher download average are less likely to churn, whereas the customers whose download average is less, they churned less."
      ],
      "metadata": {
        "id": "7skzkBr3x8zd"
      }
    },
    {
      "cell_type": "code",
      "source": [
        "df[df['churn']==0]['download_avg'].hist(bins=7, color='grey')\n",
        "df[df['churn']==1]['download_avg'].hist(bins=7,color='blue', alpha=0.3)\n",
        "plt.legend(['Not Churned', 'Churned'])\n",
        "plt.title('Download Avg. in GB (last 3 months)')\n",
        "plt.figure(figsize=(6,5))\n",
        "plt.show()"
      ],
      "metadata": {
        "colab": {
          "base_uri": "https://localhost:8080/",
          "height": 464
        },
        "id": "hqkeYWd1x3Ur",
        "outputId": "26d75eda-4690-4c14-dd70-d3a1cc2220c2"
      },
      "execution_count": 47,
      "outputs": [
        {
          "output_type": "display_data",
          "data": {
            "text/plain": [
              "<Figure size 720x504 with 1 Axes>"
            ],
            "image/png": "[encoded data removed]"
          },
          "metadata": {}
        },
        {
          "output_type": "display_data",
          "data": {
            "text/plain": [
              "<Figure size 432x360 with 0 Axes>"
            ]
          },
          "metadata": {}
        }
      ]
    },
    {
      "cell_type": "markdown",
      "source": [
        "From the above we can see that the customers with higher download average churned less and the customers who has less download average are churned more. so, avg download can be a measure for customer churn."
      ],
      "metadata": {
        "id": "YTRp8cI8yGsn"
      }
    },
    {
      "cell_type": "code",
      "source": [
        "data = df[df['service_failure_count']<4]\n",
        "plt.figure(figsize = (10,6))\n",
        "my_colors = [\"blue\", \"red\"]\n",
        "sns.set_palette( my_colors )\n",
        "\n",
        "sns.countplot(data = data, x = 'service_failure_count', hue = 'churn')\n",
        "plt.title('Service Failure Count (last 3 months)')\n",
        "plt.show()"
      ],
      "metadata": {
        "colab": {
          "base_uri": "https://localhost:8080/",
          "height": 410
        },
        "id": "eeyY6MlSyA0E",
        "outputId": "504a2db7-5f62-4410-f2c8-4ea5d1fa0a9d"
      },
      "execution_count": 48,
      "outputs": [
        {
          "output_type": "display_data",
          "data": {
            "text/plain": [
              "<Figure size 720x432 with 1 Axes>"
            ],
            "image/png": "[encoded data removed]"
          },
          "metadata": {}
        }
      ]
    },
    {
      "cell_type": "code",
      "source": [
        "data = df[df['service_failure_count']>=4]\n",
        "plt.figure(figsize = (10,6))\n",
        "my_colors = [\"blue\",\"red\"]\n",
        "sns.set_palette( my_colors )\n",
        "sns.countplot(data = data, x = 'service_failure_count', hue = 'churn')\n",
        "plt.title('Service Failure Count (last 3 months)')\n",
        "plt.show()"
      ],
      "metadata": {
        "colab": {
          "base_uri": "https://localhost:8080/",
          "height": 410
        },
        "id": "SLrwLPp2zN8x",
        "outputId": "f62d1a6b-5adf-4a75-88e0-2b8053f09fdb"
      },
      "execution_count": 49,
      "outputs": [
        {
          "output_type": "display_data",
          "data": {
            "text/plain": [
              "<Figure size 720x432 with 1 Axes>"
            ],
            "image/png": "[encoded data removed]"
          },
          "metadata": {}
        }
      ]
    },
    {
      "cell_type": "markdown",
      "source": [
        "From the above two graphs, we can see that the number of customers who phoned less than 4 times due to failure of service are very high than those who phoned more than 3 times and the number of customers who didn’t phoned are also very high in numbers. And among the number of customers who phoned for service failure only 38% didn’t churned, rest 62%. Churned. So, failure in service can be a factor in less retention of customers."
      ],
      "metadata": {
        "id": "2nRwUjvvzgQt"
      }
    },
    {
      "cell_type": "code",
      "source": [
        "df.groupby('service_failure_count')['churn'].value_counts()"
      ],
      "metadata": {
        "colab": {
          "base_uri": "https://localhost:8080/"
        },
        "id": "soeENa6szpZW",
        "outputId": "2f8669bc-1968-4e0b-ce46-6c0944b6265d"
      },
      "execution_count": 50,
      "outputs": [
        {
          "output_type": "execute_result",
          "data": {
            "text/plain": [
              "service_failure_count  churn\n",
              "0.0                    1.0      27924\n",
              "                       0.0      12905\n",
              "1.0                    1.0       3391\n",
              "                       0.0       1612\n",
              "2.0                    1.0       1172\n",
              "                       0.0        405\n",
              "3.0                    1.0        388\n",
              "                       0.0        142\n",
              "4.0                    1.0        194\n",
              "                       0.0         40\n",
              "5.0                    1.0         95\n",
              "                       0.0         24\n",
              "6.0                    1.0         50\n",
              "                       0.0          8\n",
              "7.0                    1.0         28\n",
              "                       0.0          6\n",
              "8.0                    1.0         15\n",
              "                       0.0          3\n",
              "9.0                    1.0         11\n",
              "10.0                   1.0          8\n",
              "                       0.0          2\n",
              "11.0                   1.0          3\n",
              "                       0.0          1\n",
              "12.0                   1.0          2\n",
              "13.0                   1.0          2\n",
              "                       0.0          1\n",
              "14.0                   1.0          2\n",
              "15.0                   1.0          1\n",
              "16.0                   0.0          1\n",
              "Name: churn, dtype: int64"
            ]
          },
          "metadata": {},
          "execution_count": 50
        }
      ]
    },
    {
      "cell_type": "code",
      "source": [
        "data = df[df['download_over_limit']<1]\n",
        "plt.figure(figsize = (4,5))\n",
        "my_colors = [\"blue\",\"red\"]\n",
        "sns.set_palette( my_colors )\n",
        "sns.countplot(data = data, x = 'download_over_limit', hue = 'churn')\n",
        "plt.title('Download Over Limit Count (last 9 months)')\n",
        "plt.show()"
      ],
      "metadata": {
        "colab": {
          "base_uri": "https://localhost:8080/",
          "height": 355
        },
        "id": "hxA1aKrKzsZB",
        "outputId": "c932b953-57a4-4cb0-92bb-ccfcfaa8745d"
      },
      "execution_count": 51,
      "outputs": [
        {
          "output_type": "display_data",
          "data": {
            "text/plain": [
              "<Figure size 288x360 with 1 Axes>"
            ],
            "image/png": "[encoded data removed]"
          },
          "metadata": {}
        }
      ]
    },
    {
      "cell_type": "markdown",
      "source": [
        "Among the customers who didn’t exceeded the download limit, number of customers churned is more than the customers who didn’t churned."
      ],
      "metadata": {
        "id": "suYXYWxjz3X9"
      }
    },
    {
      "cell_type": "code",
      "source": [
        "data = df[df['download_over_limit']>=1]\n",
        "plt.figure(figsize = (10,6))\n",
        "my_colors = [\"blue\",\"red\"]\n",
        "sns.set_palette( my_colors )\n",
        "sns.countplot(data = data, x = 'download_over_limit', hue = 'churn')\n",
        "plt.title('Download Over Limit Count (last 9 months)')\n",
        "plt.show()\n"
      ],
      "metadata": {
        "colab": {
          "base_uri": "https://localhost:8080/",
          "height": 410
        },
        "id": "TPxx7NNP0Pbh",
        "outputId": "286047fe-7187-47ed-f66d-7392f34d9f9f"
      },
      "execution_count": 52,
      "outputs": [
        {
          "output_type": "display_data",
          "data": {
            "text/plain": [
              "<Figure size 720x432 with 1 Axes>"
            ],
            "image/png": "[encoded data removed]"
          },
          "metadata": {}
        }
      ]
    },
    {
      "cell_type": "markdown",
      "source": [
        "From the above graph we can see that among the number of customers who exceeded the download limit, the number of customers who churned is very high than the customers who didn’t churned. We can say that this doesn’t had any effect on the customer churn."
      ],
      "metadata": {
        "id": "qtWH4Y2t0uK9"
      }
    },
    {
      "cell_type": "code",
      "source": [
        "df.groupby('download_over_limit')['churn'].value_counts()"
      ],
      "metadata": {
        "colab": {
          "base_uri": "https://localhost:8080/"
        },
        "id": "7L0Bvdlm0DqD",
        "outputId": "c5dcc6e6-e057-418d-e8d9-543c49a05f96"
      },
      "execution_count": 53,
      "outputs": [
        {
          "output_type": "execute_result",
          "data": {
            "text/plain": [
              "download_over_limit  churn\n",
              "0.0                  1.0      29948\n",
              "                     0.0      14934\n",
              "1.0                  1.0        528\n",
              "                     0.0         86\n",
              "2.0                  1.0        430\n",
              "                     0.0         47\n",
              "3.0                  1.0        422\n",
              "                     0.0         27\n",
              "4.0                  1.0        415\n",
              "                     0.0         16\n",
              "5.0                  1.0        391\n",
              "                     0.0         21\n",
              "6.0                  1.0        657\n",
              "                     0.0         18\n",
              "7.0                  1.0        495\n",
              "                     0.0          1\n",
              "Name: churn, dtype: int64"
            ]
          },
          "metadata": {},
          "execution_count": 53
        }
      ]
    },
    {
      "cell_type": "code",
      "source": [
        "correlation = df.corr()\n",
        "plt.figure(figsize=(15,8))\n",
        "\n",
        "sns.heatmap(correlation,vmin=-1,vmax=1,annot=True)\n",
        "plt.show()"
      ],
      "metadata": {
        "colab": {
          "base_uri": "https://localhost:8080/",
          "height": 596
        },
        "id": "nNef9P7XzydH",
        "outputId": "5e49f4e2-73fd-42f5-d209-12d3266504ff"
      },
      "execution_count": 54,
      "outputs": [
        {
          "output_type": "display_data",
          "data": {
            "text/plain": [
              "<Figure size 1080x576 with 2 Axes>"
            ],
            "image/png": "[encoded data removed]"
          },
          "metadata": {}
        }
      ]
    },
    {
      "cell_type": "markdown",
      "source": [
        ""
      ],
      "metadata": {
        "id": "LNyTnvAC9ZAV"
      }
    },
    {
      "cell_type": "code",
      "source": [
        "df.head()"
      ],
      "metadata": {
        "colab": {
          "base_uri": "https://localhost:8080/",
          "height": 302
        },
        "id": "zgpNI5-YCbTm",
        "outputId": "4b1c0b87-c97d-4da1-8ec3-f5e08d059beb"
      },
      "execution_count": 70,
      "outputs": [
        {
          "output_type": "execute_result",
          "data": {
            "text/plain": [
              "       id  tv_subscriber  movie_subscriber  subscription_age  bill_avg  \\\n",
              "User                                                                     \n",
              "0      27              0                 0              6.87        21   \n",
              "1      34              0                 0              6.39         0   \n",
              "2      84              0                 0              5.48        14   \n",
              "3     213              0                 0              6.64        10   \n",
              "4     222              0                 0              5.53        14   \n",
              "\n",
              "      remaining_contract  service_failure_count  download_avg  upload_avg  \\\n",
              "User                                                                        \n",
              "0                    NaN                    1.0           0.0         0.0   \n",
              "1                    NaN                    0.0           0.0         0.0   \n",
              "2                    NaN                    1.0           0.0         0.0   \n",
              "3                    NaN                    0.0           0.0         0.0   \n",
              "4                    NaN                    0.0           0.0         0.0   \n",
              "\n",
              "      download_over_limit  churn  \n",
              "User                              \n",
              "0                     0.0    1.0  \n",
              "1                     0.0    1.0  \n",
              "2                     0.0    1.0  \n",
              "3                     0.0    1.0  \n",
              "4                     0.0    1.0  "
            ],
            "text/html": [
              "\n",
              "  <div id=\"df-ed6f6ba1-5ae4-4d3e-a34c-3ae03a1528af\">\n",
              "    <div class=\"colab-df-container\">\n",
              "      <div>\n",
              "<style scoped>\n",
              "    .dataframe tbody tr th:only-of-type {\n",
              "        vertical-align: middle;\n",
              "    }\n",
              "\n",
              "    .dataframe tbody tr th {\n",
              "        vertical-align: top;\n",
              "    }\n",
              "\n",
              "    .dataframe thead th {\n",
              "        text-align: right;\n",
              "    }\n",
              "</style>\n",
              "<table border=\"1\" class=\"dataframe\">\n",
              "  <thead>\n",
              "    <tr style=\"text-align: right;\">\n",
              "      <th></th>\n",
              "      <th>id</th>\n",
              "      <th>tv_subscriber</th>\n",
              "      <th>movie_subscriber</th>\n",
              "      <th>subscription_age</th>\n",
              "      <th>bill_avg</th>\n",
              "      <th>remaining_contract</th>\n",
              "      <th>service_failure_count</th>\n",
              "      <th>download_avg</th>\n",
              "      <th>upload_avg</th>\n",
              "      <th>download_over_limit</th>\n",
              "      <th>churn</th>\n",
              "    </tr>\n",
              "    <tr>\n",
              "      <th>User</th>\n",
              "      <th></th>\n",
              "      <th></th>\n",
              "      <th></th>\n",
              "      <th></th>\n",
              "      <th></th>\n",
              "      <th></th>\n",
              "      <th></th>\n",
              "      <th></th>\n",
              "      <th></th>\n",
              "      <th></th>\n",
              "      <th></th>\n",
              "    </tr>\n",
              "  </thead>\n",
              "  <tbody>\n",
              "    <tr>\n",
              "      <th>0</th>\n",
              "      <td>27</td>\n",
              "      <td>0</td>\n",
              "      <td>0</td>\n",
              "      <td>6.87</td>\n",
              "      <td>21</td>\n",
              "      <td>NaN</td>\n",
              "      <td>1.0</td>\n",
              "      <td>0.0</td>\n",
              "      <td>0.0</td>\n",
              "      <td>0.0</td>\n",
              "      <td>1.0</td>\n",
              "    </tr>\n",
              "    <tr>\n",
              "      <th>1</th>\n",
              "      <td>34</td>\n",
              "      <td>0</td>\n",
              "      <td>0</td>\n",
              "      <td>6.39</td>\n",
              "      <td>0</td>\n",
              "      <td>NaN</td>\n",
              "      <td>0.0</td>\n",
              "      <td>0.0</td>\n",
              "      <td>0.0</td>\n",
              "      <td>0.0</td>\n",
              "      <td>1.0</td>\n",
              "    </tr>\n",
              "    <tr>\n",
              "      <th>2</th>\n",
              "      <td>84</td>\n",
              "      <td>0</td>\n",
              "      <td>0</td>\n",
              "      <td>5.48</td>\n",
              "      <td>14</td>\n",
              "      <td>NaN</td>\n",
              "      <td>1.0</td>\n",
              "      <td>0.0</td>\n",
              "      <td>0.0</td>\n",
              "      <td>0.0</td>\n",
              "      <td>1.0</td>\n",
              "    </tr>\n",
              "    <tr>\n",
              "      <th>3</th>\n",
              "      <td>213</td>\n",
              "      <td>0</td>\n",
              "      <td>0</td>\n",
              "      <td>6.64</td>\n",
              "      <td>10</td>\n",
              "      <td>NaN</td>\n",
              "      <td>0.0</td>\n",
              "      <td>0.0</td>\n",
              "      <td>0.0</td>\n",
              "      <td>0.0</td>\n",
              "      <td>1.0</td>\n",
              "    </tr>\n",
              "    <tr>\n",
              "      <th>4</th>\n",
              "      <td>222</td>\n",
              "      <td>0</td>\n",
              "      <td>0</td>\n",
              "      <td>5.53</td>\n",
              "      <td>14</td>\n",
              "      <td>NaN</td>\n",
              "      <td>0.0</td>\n",
              "      <td>0.0</td>\n",
              "      <td>0.0</td>\n",
              "      <td>0.0</td>\n",
              "      <td>1.0</td>\n",
              "    </tr>\n",
              "  </tbody>\n",
              "</table>\n",
              "</div>\n",
              "      <button class=\"colab-df-convert\" onclick=\"convertToInteractive('df-ed6f6ba1-5ae4-4d3e-a34c-3ae03a1528af')\"\n",
              "              title=\"Convert this dataframe to an interactive table.\"\n",
              "              style=\"display:none;\">\n",
              "        \n",
              "  <svg xmlns=\"http://www.w3.org/2000/svg\" height=\"24px\"viewBox=\"0 0 24 24\"\n",
              "       width=\"24px\">\n",
              "    <path d=\"M0 0h24v24H0V0z\" fill=\"none\"/>\n",
              "    <path d=\"M18.56 5.44l.94 2.06.94-2.06 2.06-.94-2.06-.94-.94-2.06-.94 2.06-2.06.94zm-11 1L8.5 8.5l.94-2.06 2.06-.94-2.06-.94L8.5 2.5l-.94 2.06-2.06.94zm10 10l.94 2.06.94-2.06 2.06-.94-2.06-.94-.94-2.06-.94 2.06-2.06.94z\"/><path d=\"M17.41 7.96l-1.37-1.37c-.4-.4-.92-.59-1.43-.59-.52 0-1.04.2-1.43.59L10.3 9.45l-7.72 7.72c-.78.78-.78 2.05 0 2.83L4 21.41c.39.39.9.59 1.41.59.51 0 1.02-.2 1.41-.59l7.78-7.78 2.81-2.81c.8-.78.8-2.07 0-2.86zM5.41 20L4 18.59l7.72-7.72 1.47 1.35L5.41 20z\"/>\n",
              "  </svg>\n",
              "      </button>\n",
              "      \n",
              "  <style>\n",
              "    .colab-df-container {\n",
              "      display:flex;\n",
              "      flex-wrap:wrap;\n",
              "      gap: 12px;\n",
              "    }\n",
              "\n",
              "    .colab-df-convert {\n",
              "      background-color: #E8F0FE;\n",
              "      border: none;\n",
              "      border-radius: 50%;\n",
              "      cursor: pointer;\n",
              "      display: none;\n",
              "      fill: #1967D2;\n",
              "      height: 32px;\n",
              "      padding: 0 0 0 0;\n",
              "      width: 32px;\n",
              "    }\n",
              "\n",
              "    .colab-df-convert:hover {\n",
              "      background-color: #E2EBFA;\n",
              "      box-shadow: 0px 1px 2px rgba(60, 64, 67, 0.3), 0px 1px 3px 1px rgba(60, 64, 67, 0.15);\n",
              "      fill: #174EA6;\n",
              "    }\n",
              "\n",
              "    [theme=dark] .colab-df-convert {\n",
              "      background-color: #3B4455;\n",
              "      fill: #D2E3FC;\n",
              "    }\n",
              "\n",
              "    [theme=dark] .colab-df-convert:hover {\n",
              "      background-color: #434B5C;\n",
              "      box-shadow: 0px 1px 3px 1px rgba(0, 0, 0, 0.15);\n",
              "      filter: drop-shadow(0px 1px 2px rgba(0, 0, 0, 0.3));\n",
              "      fill: #FFFFFF;\n",
              "    }\n",
              "  </style>\n",
              "\n",
              "      <script>\n",
              "        const buttonEl =\n",
              "          document.querySelector('#df-ed6f6ba1-5ae4-4d3e-a34c-3ae03a1528af button.colab-df-convert');\n",
              "        buttonEl.style.display =\n",
              "          google.colab.kernel.accessAllowed ? 'block' : 'none';\n",
              "\n",
              "        async function convertToInteractive(key) {\n",
              "          const element = document.querySelector('#df-ed6f6ba1-5ae4-4d3e-a34c-3ae03a1528af');\n",
              "          const dataTable =\n",
              "            await google.colab.kernel.invokeFunction('convertToInteractive',\n",
              "                                                     [key], {});\n",
              "          if (!dataTable) return;\n",
              "\n",
              "          const docLinkHtml = 'Like what you see? Visit the ' +\n",
              "            '<a target=\"_blank\" href=https://colab.research.google.com/notebooks/data_table.ipynb>data table notebook</a>'\n",
              "            + ' to learn more about interactive tables.';\n",
              "          element.innerHTML = '';\n",
              "          dataTable['output_type'] = 'display_data';\n",
              "          await google.colab.output.renderOutput(dataTable, element);\n",
              "          const docLink = document.createElement('div');\n",
              "          docLink.innerHTML = docLinkHtml;\n",
              "          element.appendChild(docLink);\n",
              "        }\n",
              "      </script>\n",
              "    </div>\n",
              "  </div>\n",
              "  "
            ]
          },
          "metadata": {},
          "execution_count": 70
        }
      ]
    },
    {
      "cell_type": "code",
      "source": [
        "from sklearn.model_selection import train_test_split\n",
        "\n",
        "X = df[['tv_subscriber','subscription_age','bill_avg','service_failure_count',\n",
        "         'download_avg','upload_avg','download_over_limit']]\n",
        "y  = df[\"churn\"]\n",
        "\n"
      ],
      "metadata": {
        "id": "MTXjtzZ69ZlC"
      },
      "execution_count": 71,
      "outputs": []
    },
    {
      "cell_type": "code",
      "source": [
        "X_train, X_test, y_train, y_test = train_test_split(X, y, test_size=0.3, random_state=2)"
      ],
      "metadata": {
        "id": "zmb9zhp9038o"
      },
      "execution_count": 72,
      "outputs": []
    },
    {
      "cell_type": "code",
      "source": [
        "from sklearn.linear_model import LogisticRegression\n"
      ],
      "metadata": {
        "id": "x1weFbsmBnQg"
      },
      "execution_count": 73,
      "outputs": []
    },
    {
      "cell_type": "code",
      "source": [
        "clf = LogisticRegression()"
      ],
      "metadata": {
        "id": "WFo2WYmUB40m"
      },
      "execution_count": 74,
      "outputs": []
    },
    {
      "cell_type": "code",
      "source": [
        "clf.fit(X_train, y_train)"
      ],
      "metadata": {
        "colab": {
          "base_uri": "https://localhost:8080/"
        },
        "id": "o4XmhOAFB79V",
        "outputId": "57ff36aa-8e63-4527-e305-0f45543160a1"
      },
      "execution_count": 75,
      "outputs": [
        {
          "output_type": "execute_result",
          "data": {
            "text/plain": [
              "LogisticRegression()"
            ]
          },
          "metadata": {},
          "execution_count": 75
        }
      ]
    },
    {
      "cell_type": "code",
      "source": [
        "from sklearn.metrics import accuracy_score\n",
        "y_pred = clf.predict(X_train)\n",
        "accuracy_score(y_train, y_pred)\n"
      ],
      "metadata": {
        "colab": {
          "base_uri": "https://localhost:8080/"
        },
        "id": "NW8cb4LmCAxe",
        "outputId": "cdc65f79-09cb-4965-b2a9-47f313c138f6"
      },
      "execution_count": 76,
      "outputs": [
        {
          "output_type": "execute_result",
          "data": {
            "text/plain": [
              "0.7904143931573514"
            ]
          },
          "metadata": {},
          "execution_count": 76
        }
      ]
    },
    {
      "cell_type": "markdown",
      "source": [
        "The customer who is going to churn can be predicted with 79.04% accuracy."
      ],
      "metadata": {
        "id": "DB3WPBJNEq2B"
      }
    },
    {
      "cell_type": "code",
      "source": [
        "y_pred2 = clf.predict(X_test)\n",
        "accuracy_score(y_test, y_pred2)"
      ],
      "metadata": {
        "colab": {
          "base_uri": "https://localhost:8080/"
        },
        "id": "-ETn5O70Ej2P",
        "outputId": "906c4103-dbfc-4181-df25-2204b9592d7d"
      },
      "execution_count": 78,
      "outputs": [
        {
          "output_type": "execute_result",
          "data": {
            "text/plain": [
              "0.7812951620673044"
            ]
          },
          "metadata": {},
          "execution_count": 78
        }
      ]
    },
    {
      "cell_type": "code",
      "source": [
        "from pprint import pprint as pp\n",
        "from sklearn.metrics import classification_report\n",
        "c = classification_report(y_test, y_pred2)\n",
        "pp(c)"
      ],
      "metadata": {
        "colab": {
          "base_uri": "https://localhost:8080/"
        },
        "id": "sq59DmDsFXLT",
        "outputId": "946f2e6b-fcd4-402f-96a5-134235c5a691"
      },
      "execution_count": 80,
      "outputs": [
        {
          "output_type": "stream",
          "name": "stdout",
          "text": [
            "('              precision    recall  f1-score   support\\n'\n",
            " '\\n'\n",
            " '         0.0       0.69      0.56      0.62      4579\\n'\n",
            " '         1.0       0.81      0.88      0.85      9952\\n'\n",
            " '\\n'\n",
            " '    accuracy                           0.78     14531\\n'\n",
            " '   macro avg       0.75      0.72      0.73     14531\\n'\n",
            " 'weighted avg       0.77      0.78      0.77     14531\\n')\n"
          ]
        }
      ]
    },
    {
      "cell_type": "code",
      "source": [
        "from sklearn.metrics import confusion_matrix\n",
        "confusion_matrix(y_test, y_pred2)"
      ],
      "metadata": {
        "colab": {
          "base_uri": "https://localhost:8080/"
        },
        "id": "R6nChp7KFqM-",
        "outputId": "abd2011b-8d91-458c-84fc-9f102f18f2d6"
      },
      "execution_count": 81,
      "outputs": [
        {
          "output_type": "execute_result",
          "data": {
            "text/plain": [
              "array([[2576, 2003],\n",
              "       [1175, 8777]])"
            ]
          },
          "metadata": {},
          "execution_count": 81
        }
      ]
    },
    {
      "cell_type": "code",
      "source": [
        "confusion_matrix(y_test, y_pred2)\n",
        "confusion_matrix = pd.crosstab(y_test, y_pred2), rownames=['Actual'], colnames=['Predicted'])\n",
        "sns.heatmap(confusion_matrix, annot=True)"
      ],
      "metadata": {
        "colab": {
          "base_uri": "https://localhost:8080/",
          "height": 130
        },
        "id": "oQPRcWrgFu_d",
        "outputId": "953e5848-e65a-4fa0-e1cb-52541ec99d47"
      },
      "execution_count": 86,
      "outputs": [
        {
          "output_type": "error",
          "ename": "SyntaxError",
          "evalue": "ignored",
          "traceback": [
            "\u001b[0;36m  File \u001b[0;32m\"<ipython-input-86-ef371bab5740>\"\u001b[0;36m, line \u001b[0;32m2\u001b[0m\n\u001b[0;31m    confusion_matrix = pd.crosstab(y_test, y_pred2), rownames=['Actual'], colnames=['Predicted'])\u001b[0m\n\u001b[0m                                                                                                ^\u001b[0m\n\u001b[0;31mSyntaxError\u001b[0m\u001b[0;31m:\u001b[0m invalid syntax\n"
          ]
        }
      ]
    },
    {
      "cell_type": "code",
      "source": [
        ""
      ],
      "metadata": {
        "id": "NzmIFMJ4GyOZ"
      },
      "execution_count": null,
      "outputs": []
    }
  ]
}